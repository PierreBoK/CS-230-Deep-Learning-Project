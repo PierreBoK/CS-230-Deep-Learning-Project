{
 "cells": [
  {
   "cell_type": "code",
   "execution_count": null,
   "id": "9a535fbb",
   "metadata": {},
   "outputs": [
    {
     "name": "stdout",
     "output_type": "stream",
     "text": [
      "✅ Saved: dayahead_prices_FR_2022_2025.csv\n"
     ]
    }
   ],
   "source": [
    "from entsoe import EntsoePandasClient\n",
    "import pandas as pd\n",
    "\n",
    "# Initialize client\n",
    "client = EntsoePandasClient(api_key=\"45ab8a0d-4ed9-48cd-8c96-c338dd2681c4\")\n",
    "\n",
    "# Parameters\n",
    "country_code = 'FR'  # France\n",
    "start = pd.Timestamp('2022-07-01', tz='Europe/Brussels')\n",
    "end = pd.Timestamp('2025-10-01', tz='Europe/Brussels')\n",
    "\n",
    "# Query day-ahead prices (€/MWh)\n",
    "prices = client.query_day_ahead_prices(country_code, start=start, end=end)\n",
    "\n",
    "# Save to CSV\n",
    "prices.to_csv(\"dayahead_prices_FR_2022_2025.csv\", header=['EUR_per_MWh'])\n",
    "print(\"✅ Saved: dayahead_prices_FR_2022_2025.csv\")\n"
   ]
  },
  {
   "cell_type": "code",
   "execution_count": 14,
   "id": "0964cb13",
   "metadata": {},
   "outputs": [
    {
     "name": "stdout",
     "output_type": "stream",
     "text": [
      "✅ Saved: dayahead_load_forecast_FR_2022_2025.csv\n"
     ]
    }
   ],
   "source": [
    "from entsoe import EntsoePandasClient\n",
    "import pandas as pd\n",
    "\n",
    "# Initialize client with your ENTSO-E API key\n",
    "client = EntsoePandasClient(api_key=\"45ab8a0d-4ed9-48cd-8c96-c338dd2681c4\")\n",
    "\n",
    "country_code = 'DE'  # France\n",
    "start = pd.Timestamp('2022-07-01', tz='Europe/Brussels')\n",
    "end = pd.Timestamp('2025-09-30', tz='Europe/Brussels')\n",
    "\n",
    "# Query day-ahead total load forecast (MW)\n",
    "load_forecast = client.query_load_forecast(country_code, start=start, end=end)\n",
    "\n",
    "# Save to CSV\n",
    "load_forecast.to_csv(\"dayahead_load_forecast_FR_2022_2025.csv\", header=['MW'])\n",
    "print(\"✅ Saved: dayahead_load_forecast_FR_2022_2025.csv\")\n"
   ]
  },
  {
   "cell_type": "code",
   "execution_count": 10,
   "id": "fd284a29",
   "metadata": {},
   "outputs": [
    {
     "name": "stdout",
     "output_type": "stream",
     "text": [
      "Fetching wind from 2022-07-01 00:00:00+02:00 to 2022-08-01 00:00:00+02:00...\n",
      "Fetching wind from 2022-08-01 00:00:00+02:00 to 2022-09-01 00:00:00+02:00...\n",
      "Fetching wind from 2022-09-01 00:00:00+02:00 to 2022-10-01 00:00:00+02:00...\n",
      "Fetching wind from 2022-10-01 00:00:00+02:00 to 2022-11-01 00:00:00+01:00...\n",
      "Fetching wind from 2022-11-01 00:00:00+01:00 to 2022-12-01 00:00:00+01:00...\n",
      "Fetching wind from 2022-12-01 00:00:00+01:00 to 2023-01-01 00:00:00+01:00...\n",
      "Fetching wind from 2023-01-01 00:00:00+01:00 to 2023-02-01 00:00:00+01:00...\n",
      "Fetching wind from 2023-02-01 00:00:00+01:00 to 2023-03-01 00:00:00+01:00...\n",
      "Fetching wind from 2023-03-01 00:00:00+01:00 to 2023-04-01 00:00:00+02:00...\n",
      "Fetching wind from 2023-04-01 00:00:00+02:00 to 2023-05-01 00:00:00+02:00...\n",
      "Fetching wind from 2023-05-01 00:00:00+02:00 to 2023-06-01 00:00:00+02:00...\n",
      "Fetching wind from 2023-06-01 00:00:00+02:00 to 2023-07-01 00:00:00+02:00...\n",
      "Fetching wind from 2023-07-01 00:00:00+02:00 to 2023-08-01 00:00:00+02:00...\n",
      "Fetching wind from 2023-08-01 00:00:00+02:00 to 2023-09-01 00:00:00+02:00...\n",
      "Fetching wind from 2023-09-01 00:00:00+02:00 to 2023-10-01 00:00:00+02:00...\n",
      "Fetching wind from 2023-10-01 00:00:00+02:00 to 2023-11-01 00:00:00+01:00...\n",
      "Fetching wind from 2023-11-01 00:00:00+01:00 to 2023-12-01 00:00:00+01:00...\n",
      "Fetching wind from 2023-12-01 00:00:00+01:00 to 2024-01-01 00:00:00+01:00...\n",
      "Fetching wind from 2024-01-01 00:00:00+01:00 to 2024-02-01 00:00:00+01:00...\n",
      "Fetching wind from 2024-02-01 00:00:00+01:00 to 2024-03-01 00:00:00+01:00...\n",
      "Fetching wind from 2024-03-01 00:00:00+01:00 to 2024-04-01 00:00:00+02:00...\n",
      "Fetching wind from 2024-04-01 00:00:00+02:00 to 2024-05-01 00:00:00+02:00...\n",
      "Fetching wind from 2024-05-01 00:00:00+02:00 to 2024-06-01 00:00:00+02:00...\n",
      "Fetching wind from 2024-06-01 00:00:00+02:00 to 2024-07-01 00:00:00+02:00...\n",
      "Fetching wind from 2024-07-01 00:00:00+02:00 to 2024-08-01 00:00:00+02:00...\n",
      "Fetching wind from 2024-08-01 00:00:00+02:00 to 2024-09-01 00:00:00+02:00...\n",
      "Fetching wind from 2024-09-01 00:00:00+02:00 to 2024-10-01 00:00:00+02:00...\n",
      "Fetching wind from 2024-10-01 00:00:00+02:00 to 2024-11-01 00:00:00+01:00...\n",
      "Fetching wind from 2024-11-01 00:00:00+01:00 to 2024-12-01 00:00:00+01:00...\n",
      "Fetching wind from 2024-12-01 00:00:00+01:00 to 2025-01-01 00:00:00+01:00...\n",
      "Fetching wind from 2025-01-01 00:00:00+01:00 to 2025-02-01 00:00:00+01:00...\n",
      "Fetching wind from 2025-02-01 00:00:00+01:00 to 2025-03-01 00:00:00+01:00...\n",
      "Fetching wind from 2025-03-01 00:00:00+01:00 to 2025-04-01 00:00:00+02:00...\n",
      "Fetching wind from 2025-04-01 00:00:00+02:00 to 2025-05-01 00:00:00+02:00...\n",
      "Fetching wind from 2025-05-01 00:00:00+02:00 to 2025-06-01 00:00:00+02:00...\n",
      "Fetching wind from 2025-06-01 00:00:00+02:00 to 2025-07-01 00:00:00+02:00...\n",
      "Fetching wind from 2025-07-01 00:00:00+02:00 to 2025-08-01 00:00:00+02:00...\n",
      "Fetching wind from 2025-08-01 00:00:00+02:00 to 2025-09-01 00:00:00+02:00...\n",
      "Fetching wind from 2025-09-01 00:00:00+02:00 to 2025-09-30 00:00:00+02:00...\n",
      "✅ Saved: dayahead_wind_forecast_FR_2022_2025.csv\n",
      "Fetching solar from 2022-07-01 00:00:00+02:00 to 2022-08-01 00:00:00+02:00...\n",
      "Fetching solar from 2022-08-01 00:00:00+02:00 to 2022-09-01 00:00:00+02:00...\n",
      "Fetching solar from 2022-09-01 00:00:00+02:00 to 2022-10-01 00:00:00+02:00...\n",
      "Fetching solar from 2022-10-01 00:00:00+02:00 to 2022-11-01 00:00:00+01:00...\n",
      "Fetching solar from 2022-11-01 00:00:00+01:00 to 2022-12-01 00:00:00+01:00...\n",
      "Fetching solar from 2022-12-01 00:00:00+01:00 to 2023-01-01 00:00:00+01:00...\n",
      "Fetching solar from 2023-01-01 00:00:00+01:00 to 2023-02-01 00:00:00+01:00...\n",
      "Fetching solar from 2023-02-01 00:00:00+01:00 to 2023-03-01 00:00:00+01:00...\n",
      "Fetching solar from 2023-03-01 00:00:00+01:00 to 2023-04-01 00:00:00+02:00...\n",
      "Fetching solar from 2023-04-01 00:00:00+02:00 to 2023-05-01 00:00:00+02:00...\n",
      "Fetching solar from 2023-05-01 00:00:00+02:00 to 2023-06-01 00:00:00+02:00...\n",
      "Fetching solar from 2023-06-01 00:00:00+02:00 to 2023-07-01 00:00:00+02:00...\n",
      "Fetching solar from 2023-07-01 00:00:00+02:00 to 2023-08-01 00:00:00+02:00...\n",
      "Fetching solar from 2023-08-01 00:00:00+02:00 to 2023-09-01 00:00:00+02:00...\n",
      "Fetching solar from 2023-09-01 00:00:00+02:00 to 2023-10-01 00:00:00+02:00...\n",
      "Fetching solar from 2023-10-01 00:00:00+02:00 to 2023-11-01 00:00:00+01:00...\n",
      "Fetching solar from 2023-11-01 00:00:00+01:00 to 2023-12-01 00:00:00+01:00...\n",
      "Fetching solar from 2023-12-01 00:00:00+01:00 to 2024-01-01 00:00:00+01:00...\n",
      "Fetching solar from 2024-01-01 00:00:00+01:00 to 2024-02-01 00:00:00+01:00...\n",
      "Fetching solar from 2024-02-01 00:00:00+01:00 to 2024-03-01 00:00:00+01:00...\n",
      "Fetching solar from 2024-03-01 00:00:00+01:00 to 2024-04-01 00:00:00+02:00...\n",
      "Fetching solar from 2024-04-01 00:00:00+02:00 to 2024-05-01 00:00:00+02:00...\n",
      "Fetching solar from 2024-05-01 00:00:00+02:00 to 2024-06-01 00:00:00+02:00...\n",
      "Fetching solar from 2024-06-01 00:00:00+02:00 to 2024-07-01 00:00:00+02:00...\n",
      "Fetching solar from 2024-07-01 00:00:00+02:00 to 2024-08-01 00:00:00+02:00...\n",
      "Fetching solar from 2024-08-01 00:00:00+02:00 to 2024-09-01 00:00:00+02:00...\n",
      "Fetching solar from 2024-09-01 00:00:00+02:00 to 2024-10-01 00:00:00+02:00...\n",
      "Fetching solar from 2024-10-01 00:00:00+02:00 to 2024-11-01 00:00:00+01:00...\n",
      "Fetching solar from 2024-11-01 00:00:00+01:00 to 2024-12-01 00:00:00+01:00...\n",
      "Fetching solar from 2024-12-01 00:00:00+01:00 to 2025-01-01 00:00:00+01:00...\n",
      "Fetching solar from 2025-01-01 00:00:00+01:00 to 2025-02-01 00:00:00+01:00...\n",
      "Fetching solar from 2025-02-01 00:00:00+01:00 to 2025-03-01 00:00:00+01:00...\n",
      "Fetching solar from 2025-03-01 00:00:00+01:00 to 2025-04-01 00:00:00+02:00...\n",
      "Fetching solar from 2025-04-01 00:00:00+02:00 to 2025-05-01 00:00:00+02:00...\n",
      "Fetching solar from 2025-05-01 00:00:00+02:00 to 2025-06-01 00:00:00+02:00...\n",
      "Fetching solar from 2025-06-01 00:00:00+02:00 to 2025-07-01 00:00:00+02:00...\n",
      "Fetching solar from 2025-07-01 00:00:00+02:00 to 2025-08-01 00:00:00+02:00...\n",
      "Fetching solar from 2025-08-01 00:00:00+02:00 to 2025-09-01 00:00:00+02:00...\n",
      "Fetching solar from 2025-09-01 00:00:00+02:00 to 2025-09-30 00:00:00+02:00...\n",
      "✅ Saved: dayahead_solar_forecast_FR_2022_2025.csv\n"
     ]
    }
   ],
   "source": [
    "from entsoe import EntsoePandasClient\n",
    "import pandas as pd\n",
    "import time\n",
    "\n",
    "token = \"45ab8a0d-4ed9-48cd-8c96-c338dd2681c4\"\n",
    "client = EntsoePandasClient(api_key=token)\n",
    "country_code = 'FR'\n",
    "\n",
    "start = pd.Timestamp('2022-07-01', tz='Europe/Brussels')\n",
    "end = pd.Timestamp('2025-09-30', tz='Europe/Brussels')\n",
    "\n",
    "def fetch_psr(psr_code, label):\n",
    "    all_data = pd.DataFrame()\n",
    "    current = start\n",
    "    while current < end:\n",
    "        sub_end = min(current + pd.DateOffset(months=1), end)\n",
    "        print(f\"Fetching {label} from {current} to {sub_end}...\")\n",
    "        try:\n",
    "            df = client.query_wind_and_solar_forecast(\n",
    "                country_code,\n",
    "                start=current,\n",
    "                end=sub_end,\n",
    "                psr_type=psr_code,\n",
    "                process_type='A01'   # Day-ahead\n",
    "            )\n",
    "            all_data = pd.concat([all_data, df])\n",
    "        except Exception as e:\n",
    "            print(f\"❌ Error for {current}–{sub_end}: {e}\")\n",
    "            time.sleep(2)\n",
    "        current = sub_end\n",
    "    all_data.to_csv(f\"dayahead_{label}_forecast_FR_2022_2025.csv\")\n",
    "    print(f\"✅ Saved: dayahead_{label}_forecast_FR_2022_2025.csv\")\n",
    "    return all_data\n",
    "\n",
    "# Onshore wind = B19\n",
    "wind = fetch_psr('B19', 'wind')\n",
    "# Solar = B11\n",
    "solar = fetch_psr('B16', 'solar')\n"
   ]
  },
  {
   "cell_type": "code",
   "execution_count": 21,
   "id": "36821866",
   "metadata": {},
   "outputs": [
    {
     "name": "stdout",
     "output_type": "stream",
     "text": [
      "✅ Saved: dayahead_prices_Germany_2022_2025.csv\n"
     ]
    }
   ],
   "source": [
    "from entsoe import EntsoePandasClient\n",
    "import pandas as pd\n",
    "import time\n",
    "\n",
    "# Initialize client with your ENTSO-E API key\n",
    "token = \"45ab8a0d-4ed9-48cd-8c96-c338dd2681c4\"\n",
    "client = EntsoePandasClient(api_key=token)\n",
    "\n",
    "\n",
    "# Define the time range\n",
    "start = pd.Timestamp('2022-07-01', tz='Europe/Berlin')\n",
    "end = pd.Timestamp('2025-09-30', tz='Europe/Berlin')\n",
    "\n",
    "# Query the day-ahead prices for Germany\n",
    "df = client.query_day_ahead_prices('DE_LU', start=start, end=end)\n",
    "\n",
    "# Save the data to a CSV file\n",
    "df.to_csv(\"dayahead_prices_Germany_2022_2025.csv\", header=['EUR/MWh'])\n",
    "print(\"✅ Saved: dayahead_prices_Germany_2022_2025.csv\")\n"
   ]
  },
  {
   "cell_type": "code",
   "execution_count": 16,
   "id": "6b240c28",
   "metadata": {},
   "outputs": [
    {
     "name": "stdout",
     "output_type": "stream",
     "text": [
      "Fetching day-ahead load forecast...\n",
      "✅ Saved: dayahead_load_forecast_DE_2022_2025.csv\n"
     ]
    }
   ],
   "source": [
    "\n",
    "# === Fetch Day-Ahead Load Forecast ===\n",
    "print(\"Fetching day-ahead load forecast...\")\n",
    "load_forecast = client.query_load_forecast(country_code, start=start, end=end)\n",
    "load_forecast.to_csv(\"dayahead_load_forecast_DE_2022_2025.csv\", header=['MW'])\n",
    "print(\"✅ Saved: dayahead_load_forecast_DE_2022_2025.csv\")\n"
   ]
  },
  {
   "cell_type": "code",
   "execution_count": null,
   "id": "413c387e",
   "metadata": {},
   "outputs": [],
   "source": [
    "\n",
    "# === Fetch Day-Ahead Wind and Solar Forecasts ===\n",
    "def fetch_psr(psr_code, label):\n",
    "    all_data = pd.DataFrame()\n",
    "    current = start\n",
    "    while current < end:\n",
    "        sub_end = min(current + pd.DateOffset(months=1), end)\n",
    "        print(f\"Fetching {label} from {current} to {sub_end}...\")\n",
    "        try:\n",
    "            df = client.query_wind_and_solar_forecast(\n",
    "                country_code,\n",
    "                start=current,\n",
    "                end=sub_end,\n",
    "                psr_type=psr_code,\n",
    "                process_type='A01'   # Day-ahead\n",
    "            )\n",
    "            all_data = pd.concat([all_data, df])\n",
    "        except Exception as e:\n",
    "            if \"NoMatchingDataError\" in str(type(e)):\n",
    "                print(f\"⚠️ No data for {label} from {current} to {sub_end}. Skipping.\")\n",
    "            else:\n",
    "                print(f\"❌ Error for {current}–{sub_end}: {e}\")\n",
    "                time.sleep(2)\n",
    "        current = sub_end\n",
    "    all_data.to_csv(f\"dayahead_{label}_forecast_DE_2022_2025.csv\")\n",
    "    print(f\"✅ Saved: dayahead_{label}_forecast_DE_2022_2025.csv\")\n",
    "    return all_data\n",
    "\n",
    "# Onshore wind = B19\n",
    "print(\"Fetching day-ahead wind forecast...\")\n",
    "wind = fetch_psr('B19', 'wind')\n",
    "\n",
    "# Solar = B16\n",
    "print(\"Fetching day-ahead solar forecast...\")\n",
    "solar = fetch_psr('B16', 'solar')"
   ]
  }
 ],
 "metadata": {
  "kernelspec": {
   "display_name": "Python 3",
   "language": "python",
   "name": "python3"
  },
  "language_info": {
   "codemirror_mode": {
    "name": "ipython",
    "version": 3
   },
   "file_extension": ".py",
   "mimetype": "text/x-python",
   "name": "python",
   "nbconvert_exporter": "python",
   "pygments_lexer": "ipython3",
   "version": "3.13.1"
  }
 },
 "nbformat": 4,
 "nbformat_minor": 5
}
