{
  "cells": [
    {
      "cell_type": "markdown",
      "id": "57a92274",
      "metadata": {
        "id": "57a92274"
      },
      "source": [
        "# Load, Fuel Mix, and LMP Data\n",
        "\n",
        "This notebook walk through how to use `gridstatus` to access to the data availabe on [OASIS](http://oasis.caiso.com/).\n",
        "\n",
        "While we will be using CAISO in this example, most of this API will also work with all other ISOs."
      ]
    },
    {
      "cell_type": "code",
      "execution_count": 2,
      "id": "34090b11",
      "metadata": {},
      "outputs": [],
      "source": [
        "import gridstatus\n",
        "import pandas as pd\n",
        "import os\n",
        "\n",
        "os.chdir(r\"C:\\Users\\gotta\\OneDrive\\Documents\\Bureau\\X\\4A\\US\\Stanford\\Classes\\CS 230\\Project\\CS-230-Deep-Learning-Project\")\n"
      ]
    },
    {
      "cell_type": "code",
      "execution_count": null,
      "id": "941c1a62",
      "metadata": {},
      "outputs": [],
      "source": [
        "def download_market_data(market_name, start, end):\n",
        "    \"\"\"\n",
        "    Download hourly renewable mix (each renewable), hourly load,\n",
        "    and hourly average LMP over all locations for a given market.\n",
        "    Save each as a CSV file.\n",
        "    Supported markets: 'CAISO', 'PJM', 'NYISO'\n",
        "    \"\"\"\n",
        "    market_map = {\n",
        "        \"CAISO\": gridstatus.CAISO,\n",
        "        \"PJM\": gridstatus.PJM,\n",
        "        \"NYISO\": gridstatus.NYISO,\n",
        "    }\n",
        "    if market_name not in market_map:\n",
        "        raise ValueError(\"Market must be one of: CAISO, PJM, NYISO\")\n",
        "    market = market_map[market_name]()\n",
        "\n",
        "    # Fuel mix (renewables only, hourly evolution)\n",
        "    mix_df = market.get_fuel_mix(start, end=end, verbose=False)\n",
        "    mix_df['Time'] = pd.to_datetime(mix_df['Time'])\n",
        "    renewables = ['Solar', 'Wind', 'Large Hydro', 'Small Hydro', 'Geothermal', 'Hydro', 'Other']\n",
        "    renew_cols = [col for col in renewables if col in mix_df.columns]\n",
        "    renew_mix = mix_df[['Time'] + renew_cols].set_index('Time').resample('h').mean().reset_index()\n",
        "    renew_mix.to_csv(rf\"data\\US Markets\\{market_name}\\renewable_mix.csv\", index=False)\n",
        "\n",
        "    # Load (hourly)\n",
        "    load_df = market.get_load(start, end=end)\n",
        "    load_df['Time'] = pd.to_datetime(load_df['Time'])\n",
        "    hourly_load = load_df.set_index('Time').resample('h').mean().reset_index()\n",
        "    hourly_load.to_csv(rf\"data\\US Markets\\{market_name}\\load.csv\", index=False)\n",
        "\n",
        "    # LMP (hourly average over all locations)\n",
        "    lmp_df = market.get_lmp(start=start, end=end, market=\"DAY_AHEAD_HOURLY\")\n",
        "    lmp_df['Time'] = pd.to_datetime(lmp_df['Time'])\n",
        "    hourly_avg_lmp = (\n",
        "        lmp_df.groupby('Time')['LMP'].mean().reset_index().rename(columns={'LMP': 'Avg_LMP'})\n",
        "    )\n",
        "    hourly_avg_lmp.to_csv(rf\"data\\US Markets\\{market_name}\\hourly_avg_lmp.csv\", index=False)\n",
        "\n",
        "    print(\"Saved CSVs:\")\n",
        "    print(f\"- data\\\\US Markets\\\\{market_name}\\\\renewable_mix.csv\")\n",
        "    print(f\"- data\\\\US Markets\\\\{market_name}\\\\load.csv\")\n",
        "    print(f\"- data\\\\US Markets\\\\{market_name}\\\\hourly_avg_lmp.csv\")\n",
        "\n",
        "# Example usage:\n",
        "start = pd.Timestamp(\"2022-07-01\").normalize()\n",
        "end = pd.Timestamp.now().normalize()\n",
        "market=[#\"CAISO\", \n",
        "    \"PJM\", \n",
        "    \"NYISO\"]\n",
        "for m in market:\n",
        "    download_market_data(m, start, end)\n"
      ]
    },
    {
      "cell_type": "code",
      "execution_count": null,
      "id": "dcf56c67",
      "metadata": {},
      "outputs": [
        {
          "name": "stderr",
          "output_type": "stream",
          "text": [
            "  0%|          | 0/39 [00:00<?, ?it/s]2025-10-05 22:44:25 - DEBUG - Dataset config: {'query': {'path': 'SingleZip', 'resultformat': 6, 'queryname': 'PRC_LMP', 'version': 12}, 'params': {'market_run_id': 'DAM', 'node': None, 'grp_type': [None, 'ALL', 'ALL_APNODES']}}\n",
            "2025-10-05 22:44:25 - INFO - Fetching URL: http://oasis.caiso.com/oasisapi/SingleZip?resultformat=6&queryname=PRC_LMP&version=12&market_run_id=DAM&node=TH_NP15_GEN-APND,TH_SP15_GEN-APND,TH_ZP26_GEN-APND&startdatetime=20220701T07:00-0000&enddatetime=20220801T07:00-0000\n",
            "2025-10-05 22:45:43 - DEBUG - Found 1 files: ['20220701_20220801_PRC_LMP_DAM_20251005_22_44_25_v12.csv']\n",
            "2025-10-05 22:45:43 - DEBUG - Parsing file: 20220701_20220801_PRC_LMP_DAM_20251005_22_44_25_v12.csv\n",
            "  3%|▎         | 1/39 [01:23<53:05, 83.83s/it]2025-10-05 22:45:48 - DEBUG - Dataset config: {'query': {'path': 'SingleZip', 'resultformat': 6, 'queryname': 'PRC_LMP', 'version': 12}, 'params': {'market_run_id': 'DAM', 'node': None, 'grp_type': [None, 'ALL', 'ALL_APNODES']}}\n",
            "2025-10-05 22:45:48 - INFO - Fetching URL: http://oasis.caiso.com/oasisapi/SingleZip?resultformat=6&queryname=PRC_LMP&version=12&market_run_id=DAM&node=TH_NP15_GEN-APND,TH_SP15_GEN-APND,TH_ZP26_GEN-APND&startdatetime=20220801T07:00-0000&enddatetime=20220901T07:00-0000\n",
            "2025-10-05 22:48:58 - DEBUG - Found 1 files: ['20220801_20220901_PRC_LMP_DAM_20251005_22_45_49_v12.csv']\n",
            "2025-10-05 22:48:58 - DEBUG - Parsing file: 20220801_20220901_PRC_LMP_DAM_20251005_22_45_49_v12.csv\n",
            "  5%|▌         | 2/39 [04:38<1:31:55, 149.07s/it]2025-10-05 22:49:03 - DEBUG - Dataset config: {'query': {'path': 'SingleZip', 'resultformat': 6, 'queryname': 'PRC_LMP', 'version': 12}, 'params': {'market_run_id': 'DAM', 'node': None, 'grp_type': [None, 'ALL', 'ALL_APNODES']}}\n",
            "2025-10-05 22:49:03 - INFO - Fetching URL: http://oasis.caiso.com/oasisapi/SingleZip?resultformat=6&queryname=PRC_LMP&version=12&market_run_id=DAM&node=TH_NP15_GEN-APND,TH_SP15_GEN-APND,TH_ZP26_GEN-APND&startdatetime=20220901T07:00-0000&enddatetime=20221002T07:00-0000\n",
            "2025-10-05 22:52:42 - DEBUG - Found 1 files: ['20220901_20221002_PRC_LMP_DAM_20251005_22_49_03_v12.csv']\n",
            "2025-10-05 22:52:42 - DEBUG - Parsing file: 20220901_20221002_PRC_LMP_DAM_20251005_22_49_03_v12.csv\n",
            "  8%|▊         | 3/39 [08:22<1:49:57, 183.28s/it]2025-10-05 22:52:47 - DEBUG - Dataset config: {'query': {'path': 'SingleZip', 'resultformat': 6, 'queryname': 'PRC_LMP', 'version': 12}, 'params': {'market_run_id': 'DAM', 'node': None, 'grp_type': [None, 'ALL', 'ALL_APNODES']}}\n",
            "2025-10-05 22:52:47 - INFO - Fetching URL: http://oasis.caiso.com/oasisapi/SingleZip?resultformat=6&queryname=PRC_LMP&version=12&market_run_id=DAM&node=TH_NP15_GEN-APND,TH_SP15_GEN-APND,TH_ZP26_GEN-APND&startdatetime=20221002T07:00-0000&enddatetime=20221102T07:00-0000\n",
            "2025-10-05 22:54:53 - DEBUG - Found 1 files: ['20221002_20221102_PRC_LMP_DAM_20251005_22_52_47_v12.csv']\n",
            "2025-10-05 22:54:53 - DEBUG - Parsing file: 20221002_20221102_PRC_LMP_DAM_20251005_22_52_47_v12.csv\n",
            " 10%|█         | 4/39 [10:33<1:34:52, 162.63s/it]2025-10-05 22:54:58 - DEBUG - Dataset config: {'query': {'path': 'SingleZip', 'resultformat': 6, 'queryname': 'PRC_LMP', 'version': 12}, 'params': {'market_run_id': 'DAM', 'node': None, 'grp_type': [None, 'ALL', 'ALL_APNODES']}}\n",
            "2025-10-05 22:54:58 - INFO - Fetching URL: http://oasis.caiso.com/oasisapi/SingleZip?resultformat=6&queryname=PRC_LMP&version=12&market_run_id=DAM&node=TH_NP15_GEN-APND,TH_SP15_GEN-APND,TH_ZP26_GEN-APND&startdatetime=20221102T07:00-0000&enddatetime=20221203T07:00-0000\n"
          ]
        }
      ],
      "source": [
        "caiso = gridstatus.CAISO()\n",
        "start = pd.Timestamp(\"Jul 1, 2022\").normalize()\n",
        "end = pd.Timestamp.now().normalize()\n",
        "\n",
        "locations = [\"TH_NP15_GEN-APND\", \"TH_SP15_GEN-APND\", \"TH_ZP26_GEN-APND\"]\n",
        "\n",
        "lmp_df = caiso.get_lmp(\n",
        "    start=start, end=end, market=\"DAY_AHEAD_HOURLY\", locations=locations, sleep=5\n",
        ")"
      ]
    }
  ],
  "metadata": {
    "colab": {
      "provenance": []
    },
    "kernelspec": {
      "display_name": "Python 3",
      "language": "python",
      "name": "python3"
    },
    "language_info": {
      "codemirror_mode": {
        "name": "ipython",
        "version": 3
      },
      "file_extension": ".py",
      "mimetype": "text/x-python",
      "name": "python",
      "nbconvert_exporter": "python",
      "pygments_lexer": "ipython3",
      "version": "3.13.1"
    }
  },
  "nbformat": 4,
  "nbformat_minor": 5
}
