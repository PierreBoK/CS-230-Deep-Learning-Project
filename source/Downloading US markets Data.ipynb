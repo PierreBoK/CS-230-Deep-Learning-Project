{
  "cells": [
    {
      "cell_type": "markdown",
      "id": "57a92274",
      "metadata": {
        "id": "57a92274"
      },
      "source": [
        "# Load, Fuel Mix, and LMP Data\n",
        "\n",
        "This notebook walk through how to use `gridstatus` to access to the data availabe on [OASIS](http://oasis.caiso.com/).\n",
        "\n",
        "While we will be using CAISO in this example, most of this API will also work with all other ISOs."
      ]
    },
    {
      "cell_type": "code",
      "execution_count": 1,
      "id": "34090b11",
      "metadata": {},
      "outputs": [],
      "source": [
        "import gridstatus\n",
        "import pandas as pd\n",
        "import os\n",
        "\n",
        "os.chdir(r\"C:\\Users\\gotta\\OneDrive\\Documents\\Bureau\\X\\4A\\US\\Stanford\\Classes\\CS 230\\Project\\CS-230-Deep-Learning-Project\")\n"
      ]
    },
    {
      "cell_type": "code",
      "execution_count": null,
      "id": "d9270259",
      "metadata": {},
      "outputs": [
        {
          "name": "stderr",
          "output_type": "stream",
          "text": [
            "📅 Fetching monthly ZIPs:   0%|          | 0/39 [00:00<?, ?it/s]"
          ]
        },
        {
          "name": "stdout",
          "output_type": "stream",
          "text": [
            "\n",
            "📦 Downloading CAISO_DAM_Forecast_2022_07.zip...\n",
            "✅ Saved: CAISO_DAM_Forecast_2022_07.zip\n"
          ]
        },
        {
          "name": "stderr",
          "output_type": "stream",
          "text": [
            "📅 Fetching monthly ZIPs:   3%|▎         | 1/39 [00:02<01:33,  2.47s/it]"
          ]
        },
        {
          "name": "stdout",
          "output_type": "stream",
          "text": [
            "\n",
            "📦 Downloading CAISO_DAM_Forecast_2022_08.zip...\n",
            "⚠️ Rate limited (429), retrying in 1s...\n",
            "⚠️ Rate limited (429), retrying in 2s...\n",
            "⚠️ Rate limited (429), retrying in 4s...\n",
            "✅ Saved: CAISO_DAM_Forecast_2022_08.zip\n"
          ]
        },
        {
          "name": "stderr",
          "output_type": "stream",
          "text": [
            "📅 Fetching monthly ZIPs:   5%|▌         | 2/39 [00:12<04:14,  6.89s/it]"
          ]
        },
        {
          "name": "stdout",
          "output_type": "stream",
          "text": [
            "\n",
            "📦 Downloading CAISO_DAM_Forecast_2022_09.zip...\n",
            "✅ Saved: CAISO_DAM_Forecast_2022_09.zip\n"
          ]
        },
        {
          "name": "stderr",
          "output_type": "stream",
          "text": [
            "📅 Fetching monthly ZIPs:   8%|▊         | 3/39 [00:14<02:55,  4.86s/it]"
          ]
        },
        {
          "name": "stdout",
          "output_type": "stream",
          "text": [
            "\n",
            "📦 Downloading CAISO_DAM_Forecast_2022_10.zip...\n",
            "⚠️ Rate limited (429), retrying in 1s...\n",
            "⚠️ Rate limited (429), retrying in 2s...\n",
            "✅ Saved: CAISO_DAM_Forecast_2022_10.zip\n"
          ]
        },
        {
          "name": "stderr",
          "output_type": "stream",
          "text": [
            "📅 Fetching monthly ZIPs:  10%|█         | 4/39 [00:20<03:04,  5.26s/it]"
          ]
        },
        {
          "name": "stdout",
          "output_type": "stream",
          "text": [
            "\n",
            "📦 Downloading CAISO_DAM_Forecast_2022_11.zip...\n",
            "⚠️ Rate limited (429), retrying in 1s...\n",
            "⚠️ Rate limited (429), retrying in 2s...\n",
            "✅ Saved: CAISO_DAM_Forecast_2022_11.zip\n"
          ]
        },
        {
          "name": "stderr",
          "output_type": "stream",
          "text": [
            "📅 Fetching monthly ZIPs:  13%|█▎        | 5/39 [00:26<03:02,  5.37s/it]"
          ]
        },
        {
          "name": "stdout",
          "output_type": "stream",
          "text": [
            "\n",
            "📦 Downloading CAISO_DAM_Forecast_2022_12.zip...\n",
            "⚠️ Rate limited (429), retrying in 1s...\n",
            "⚠️ Rate limited (429), retrying in 2s...\n",
            "⚠️ Rate limited (429), retrying in 4s...\n",
            "✅ Saved: CAISO_DAM_Forecast_2022_12.zip\n"
          ]
        },
        {
          "name": "stderr",
          "output_type": "stream",
          "text": [
            "📅 Fetching monthly ZIPs:  15%|█▌        | 6/39 [00:36<03:46,  6.85s/it]"
          ]
        },
        {
          "name": "stdout",
          "output_type": "stream",
          "text": [
            "\n",
            "📦 Downloading CAISO_DAM_Forecast_2023_01.zip...\n",
            "⚠️ Rate limited (429), retrying in 1s...\n",
            "⚠️ Rate limited (429), retrying in 2s...\n",
            "✅ Saved: CAISO_DAM_Forecast_2023_01.zip\n"
          ]
        },
        {
          "name": "stderr",
          "output_type": "stream",
          "text": [
            "📅 Fetching monthly ZIPs:  18%|█▊        | 7/39 [00:41<03:26,  6.44s/it]"
          ]
        },
        {
          "name": "stdout",
          "output_type": "stream",
          "text": [
            "\n",
            "📦 Downloading CAISO_DAM_Forecast_2023_02.zip...\n",
            "⚠️ Rate limited (429), retrying in 1s...\n",
            "⚠️ Rate limited (429), retrying in 2s...\n",
            "✅ Saved: CAISO_DAM_Forecast_2023_02.zip\n"
          ]
        },
        {
          "name": "stderr",
          "output_type": "stream",
          "text": [
            "📅 Fetching monthly ZIPs:  21%|██        | 8/39 [00:47<03:15,  6.31s/it]"
          ]
        },
        {
          "name": "stdout",
          "output_type": "stream",
          "text": [
            "\n",
            "📦 Downloading CAISO_DAM_Forecast_2023_03.zip...\n",
            "⚠️ Rate limited (429), retrying in 1s...\n",
            "⚠️ Rate limited (429), retrying in 2s...\n",
            "✅ Saved: CAISO_DAM_Forecast_2023_03.zip\n"
          ]
        },
        {
          "name": "stderr",
          "output_type": "stream",
          "text": [
            "📅 Fetching monthly ZIPs:  23%|██▎       | 9/39 [00:53<03:04,  6.14s/it]"
          ]
        },
        {
          "name": "stdout",
          "output_type": "stream",
          "text": [
            "\n",
            "📦 Downloading CAISO_DAM_Forecast_2023_04.zip...\n",
            "⚠️ Rate limited (429), retrying in 1s...\n",
            "⚠️ Rate limited (429), retrying in 2s...\n",
            "⚠️ Rate limited (429), retrying in 4s...\n",
            "✅ Saved: CAISO_DAM_Forecast_2023_04.zip\n"
          ]
        },
        {
          "name": "stderr",
          "output_type": "stream",
          "text": [
            "📅 Fetching monthly ZIPs:  26%|██▌       | 10/39 [01:03<03:31,  7.28s/it]"
          ]
        },
        {
          "name": "stdout",
          "output_type": "stream",
          "text": [
            "\n",
            "📦 Downloading CAISO_DAM_Forecast_2023_05.zip...\n",
            "⚠️ Rate limited (429), retrying in 1s...\n",
            "⚠️ Rate limited (429), retrying in 2s...\n",
            "✅ Saved: CAISO_DAM_Forecast_2023_05.zip\n"
          ]
        },
        {
          "name": "stderr",
          "output_type": "stream",
          "text": [
            "📅 Fetching monthly ZIPs:  28%|██▊       | 11/39 [01:09<03:12,  6.88s/it]"
          ]
        },
        {
          "name": "stdout",
          "output_type": "stream",
          "text": [
            "\n",
            "📦 Downloading CAISO_DAM_Forecast_2023_06.zip...\n",
            "⚠️ Rate limited (429), retrying in 1s...\n",
            "⚠️ Rate limited (429), retrying in 2s...\n",
            "✅ Saved: CAISO_DAM_Forecast_2023_06.zip\n"
          ]
        },
        {
          "name": "stderr",
          "output_type": "stream",
          "text": [
            "📅 Fetching monthly ZIPs:  31%|███       | 12/39 [01:15<02:58,  6.61s/it]"
          ]
        },
        {
          "name": "stdout",
          "output_type": "stream",
          "text": [
            "\n",
            "📦 Downloading CAISO_DAM_Forecast_2023_07.zip...\n",
            "✅ Saved: CAISO_DAM_Forecast_2023_07.zip\n"
          ]
        },
        {
          "name": "stderr",
          "output_type": "stream",
          "text": [
            "📅 Fetching monthly ZIPs:  33%|███▎      | 13/39 [01:18<02:21,  5.45s/it]"
          ]
        },
        {
          "name": "stdout",
          "output_type": "stream",
          "text": [
            "\n",
            "📦 Downloading CAISO_DAM_Forecast_2023_08.zip...\n",
            "⚠️ Rate limited (429), retrying in 1s...\n",
            "⚠️ Rate limited (429), retrying in 2s...\n",
            "✅ Saved: CAISO_DAM_Forecast_2023_08.zip\n"
          ]
        },
        {
          "name": "stderr",
          "output_type": "stream",
          "text": [
            "📅 Fetching monthly ZIPs:  36%|███▌      | 14/39 [01:24<02:22,  5.70s/it]"
          ]
        },
        {
          "name": "stdout",
          "output_type": "stream",
          "text": [
            "\n",
            "📦 Downloading CAISO_DAM_Forecast_2023_09.zip...\n",
            "⚠️ Rate limited (429), retrying in 1s...\n",
            "⚠️ Rate limited (429), retrying in 2s...\n",
            "✅ Saved: CAISO_DAM_Forecast_2023_09.zip\n"
          ]
        },
        {
          "name": "stderr",
          "output_type": "stream",
          "text": [
            "📅 Fetching monthly ZIPs:  38%|███▊      | 15/39 [01:30<02:19,  5.83s/it]"
          ]
        },
        {
          "name": "stdout",
          "output_type": "stream",
          "text": [
            "\n",
            "📦 Downloading CAISO_DAM_Forecast_2023_10.zip...\n",
            "⚠️ Rate limited (429), retrying in 1s...\n",
            "⚠️ Rate limited (429), retrying in 2s...\n",
            "✅ Saved: CAISO_DAM_Forecast_2023_10.zip\n"
          ]
        },
        {
          "name": "stderr",
          "output_type": "stream",
          "text": [
            "📅 Fetching monthly ZIPs:  41%|████      | 16/39 [01:36<02:14,  5.85s/it]"
          ]
        },
        {
          "name": "stdout",
          "output_type": "stream",
          "text": [
            "\n",
            "📦 Downloading CAISO_DAM_Forecast_2023_11.zip...\n",
            "⚠️ Rate limited (429), retrying in 1s...\n",
            "⚠️ Rate limited (429), retrying in 2s...\n",
            "✅ Saved: CAISO_DAM_Forecast_2023_11.zip\n"
          ]
        },
        {
          "name": "stderr",
          "output_type": "stream",
          "text": [
            "📅 Fetching monthly ZIPs:  44%|████▎     | 17/39 [01:42<02:08,  5.86s/it]"
          ]
        },
        {
          "name": "stdout",
          "output_type": "stream",
          "text": [
            "\n",
            "📦 Downloading CAISO_DAM_Forecast_2023_12.zip...\n",
            "⚠️ Rate limited (429), retrying in 1s...\n",
            "⚠️ Rate limited (429), retrying in 2s...\n",
            "✅ Saved: CAISO_DAM_Forecast_2023_12.zip\n"
          ]
        },
        {
          "name": "stderr",
          "output_type": "stream",
          "text": [
            "📅 Fetching monthly ZIPs:  46%|████▌     | 18/39 [01:48<02:03,  5.89s/it]"
          ]
        },
        {
          "name": "stdout",
          "output_type": "stream",
          "text": [
            "\n",
            "📦 Downloading CAISO_DAM_Forecast_2024_01.zip...\n",
            "⚠️ Rate limited (429), retrying in 1s...\n",
            "⚠️ Rate limited (429), retrying in 2s...\n",
            "✅ Saved: CAISO_DAM_Forecast_2024_01.zip\n"
          ]
        },
        {
          "name": "stderr",
          "output_type": "stream",
          "text": [
            "📅 Fetching monthly ZIPs:  49%|████▊     | 19/39 [01:54<02:00,  6.04s/it]"
          ]
        },
        {
          "name": "stdout",
          "output_type": "stream",
          "text": [
            "\n",
            "📦 Downloading CAISO_DAM_Forecast_2024_02.zip...\n",
            "⚠️ Rate limited (429), retrying in 1s...\n",
            "⚠️ Rate limited (429), retrying in 2s...\n",
            "✅ Saved: CAISO_DAM_Forecast_2024_02.zip\n"
          ]
        },
        {
          "name": "stderr",
          "output_type": "stream",
          "text": [
            "📅 Fetching monthly ZIPs:  51%|█████▏    | 20/39 [02:00<01:56,  6.14s/it]"
          ]
        },
        {
          "name": "stdout",
          "output_type": "stream",
          "text": [
            "\n",
            "📦 Downloading CAISO_DAM_Forecast_2024_03.zip...\n",
            "⚠️ Rate limited (429), retrying in 1s...\n",
            "⚠️ Rate limited (429), retrying in 2s...\n",
            "✅ Saved: CAISO_DAM_Forecast_2024_03.zip\n"
          ]
        },
        {
          "name": "stderr",
          "output_type": "stream",
          "text": [
            "📅 Fetching monthly ZIPs:  54%|█████▍    | 21/39 [02:07<01:51,  6.18s/it]"
          ]
        },
        {
          "name": "stdout",
          "output_type": "stream",
          "text": [
            "\n",
            "📦 Downloading CAISO_DAM_Forecast_2024_04.zip...\n",
            "⚠️ Rate limited (429), retrying in 1s...\n",
            "⚠️ Rate limited (429), retrying in 2s...\n",
            "✅ Saved: CAISO_DAM_Forecast_2024_04.zip\n"
          ]
        },
        {
          "name": "stderr",
          "output_type": "stream",
          "text": [
            "📅 Fetching monthly ZIPs:  56%|█████▋    | 22/39 [02:13<01:43,  6.10s/it]"
          ]
        },
        {
          "name": "stdout",
          "output_type": "stream",
          "text": [
            "\n",
            "📦 Downloading CAISO_DAM_Forecast_2024_05.zip...\n",
            "⚠️ Rate limited (429), retrying in 1s...\n",
            "⚠️ Rate limited (429), retrying in 2s...\n",
            "✅ Saved: CAISO_DAM_Forecast_2024_05.zip\n"
          ]
        },
        {
          "name": "stderr",
          "output_type": "stream",
          "text": [
            "📅 Fetching monthly ZIPs:  59%|█████▉    | 23/39 [02:19<01:37,  6.06s/it]"
          ]
        },
        {
          "name": "stdout",
          "output_type": "stream",
          "text": [
            "\n",
            "📦 Downloading CAISO_DAM_Forecast_2024_06.zip...\n",
            "⚠️ Rate limited (429), retrying in 1s...\n",
            "⚠️ Rate limited (429), retrying in 2s...\n",
            "✅ Saved: CAISO_DAM_Forecast_2024_06.zip\n"
          ]
        },
        {
          "name": "stderr",
          "output_type": "stream",
          "text": [
            "📅 Fetching monthly ZIPs:  62%|██████▏   | 24/39 [02:25<01:31,  6.09s/it]"
          ]
        },
        {
          "name": "stdout",
          "output_type": "stream",
          "text": [
            "\n",
            "📦 Downloading CAISO_DAM_Forecast_2024_07.zip...\n",
            "⚠️ Rate limited (429), retrying in 1s...\n",
            "⚠️ Rate limited (429), retrying in 2s...\n",
            "✅ Saved: CAISO_DAM_Forecast_2024_07.zip\n"
          ]
        },
        {
          "name": "stderr",
          "output_type": "stream",
          "text": [
            "📅 Fetching monthly ZIPs:  64%|██████▍   | 25/39 [02:31<01:24,  6.02s/it]"
          ]
        },
        {
          "name": "stdout",
          "output_type": "stream",
          "text": [
            "\n",
            "📦 Downloading CAISO_DAM_Forecast_2024_08.zip...\n",
            "⚠️ Rate limited (429), retrying in 1s...\n",
            "⚠️ Rate limited (429), retrying in 2s...\n",
            "✅ Saved: CAISO_DAM_Forecast_2024_08.zip\n"
          ]
        },
        {
          "name": "stderr",
          "output_type": "stream",
          "text": [
            "📅 Fetching monthly ZIPs:  67%|██████▋   | 26/39 [02:36<01:17,  5.96s/it]"
          ]
        },
        {
          "name": "stdout",
          "output_type": "stream",
          "text": [
            "\n",
            "📦 Downloading CAISO_DAM_Forecast_2024_09.zip...\n",
            "⚠️ Rate limited (429), retrying in 1s...\n",
            "⚠️ Rate limited (429), retrying in 2s...\n",
            "✅ Saved: CAISO_DAM_Forecast_2024_09.zip\n"
          ]
        },
        {
          "name": "stderr",
          "output_type": "stream",
          "text": [
            "📅 Fetching monthly ZIPs:  69%|██████▉   | 27/39 [02:43<01:12,  6.06s/it]"
          ]
        },
        {
          "name": "stdout",
          "output_type": "stream",
          "text": [
            "\n",
            "📦 Downloading CAISO_DAM_Forecast_2024_10.zip...\n",
            "⚠️ Rate limited (429), retrying in 1s...\n",
            "⚠️ Rate limited (429), retrying in 2s...\n",
            "✅ Saved: CAISO_DAM_Forecast_2024_10.zip\n"
          ]
        },
        {
          "name": "stderr",
          "output_type": "stream",
          "text": [
            "📅 Fetching monthly ZIPs:  72%|███████▏  | 28/39 [02:49<01:07,  6.09s/it]"
          ]
        },
        {
          "name": "stdout",
          "output_type": "stream",
          "text": [
            "\n",
            "📦 Downloading CAISO_DAM_Forecast_2024_11.zip...\n",
            "⚠️ Rate limited (429), retrying in 1s...\n",
            "⚠️ Rate limited (429), retrying in 2s...\n",
            "✅ Saved: CAISO_DAM_Forecast_2024_11.zip\n"
          ]
        },
        {
          "name": "stderr",
          "output_type": "stream",
          "text": [
            "📅 Fetching monthly ZIPs:  74%|███████▍  | 29/39 [02:55<01:00,  6.04s/it]"
          ]
        },
        {
          "name": "stdout",
          "output_type": "stream",
          "text": [
            "\n",
            "📦 Downloading CAISO_DAM_Forecast_2024_12.zip...\n",
            "⚠️ Rate limited (429), retrying in 1s...\n",
            "⚠️ Rate limited (429), retrying in 2s...\n",
            "✅ Saved: CAISO_DAM_Forecast_2024_12.zip\n"
          ]
        },
        {
          "name": "stderr",
          "output_type": "stream",
          "text": [
            "📅 Fetching monthly ZIPs:  77%|███████▋  | 30/39 [03:01<00:54,  6.03s/it]"
          ]
        },
        {
          "name": "stdout",
          "output_type": "stream",
          "text": [
            "\n",
            "📦 Downloading CAISO_DAM_Forecast_2025_01.zip...\n",
            "⚠️ Rate limited (429), retrying in 1s...\n",
            "⚠️ Rate limited (429), retrying in 2s...\n",
            "✅ Saved: CAISO_DAM_Forecast_2025_01.zip\n"
          ]
        },
        {
          "name": "stderr",
          "output_type": "stream",
          "text": [
            "📅 Fetching monthly ZIPs:  79%|███████▉  | 31/39 [03:07<00:48,  6.11s/it]"
          ]
        },
        {
          "name": "stdout",
          "output_type": "stream",
          "text": [
            "\n",
            "📦 Downloading CAISO_DAM_Forecast_2025_02.zip...\n",
            "⚠️ Rate limited (429), retrying in 1s...\n",
            "⚠️ Rate limited (429), retrying in 2s...\n",
            "✅ Saved: CAISO_DAM_Forecast_2025_02.zip\n"
          ]
        },
        {
          "name": "stderr",
          "output_type": "stream",
          "text": [
            "📅 Fetching monthly ZIPs:  82%|████████▏ | 32/39 [03:14<00:43,  6.25s/it]"
          ]
        },
        {
          "name": "stdout",
          "output_type": "stream",
          "text": [
            "\n",
            "📦 Downloading CAISO_DAM_Forecast_2025_03.zip...\n",
            "⚠️ Rate limited (429), retrying in 1s...\n",
            "⚠️ Rate limited (429), retrying in 2s...\n",
            "✅ Saved: CAISO_DAM_Forecast_2025_03.zip\n"
          ]
        },
        {
          "name": "stderr",
          "output_type": "stream",
          "text": [
            "📅 Fetching monthly ZIPs:  85%|████████▍ | 33/39 [03:20<00:37,  6.20s/it]"
          ]
        },
        {
          "name": "stdout",
          "output_type": "stream",
          "text": [
            "\n",
            "📦 Downloading CAISO_DAM_Forecast_2025_04.zip...\n",
            "⚠️ Rate limited (429), retrying in 1s...\n",
            "⚠️ Rate limited (429), retrying in 2s...\n",
            "✅ Saved: CAISO_DAM_Forecast_2025_04.zip\n"
          ]
        },
        {
          "name": "stderr",
          "output_type": "stream",
          "text": [
            "📅 Fetching monthly ZIPs:  87%|████████▋ | 34/39 [03:26<00:30,  6.10s/it]"
          ]
        },
        {
          "name": "stdout",
          "output_type": "stream",
          "text": [
            "\n",
            "📦 Downloading CAISO_DAM_Forecast_2025_05.zip...\n",
            "⚠️ Rate limited (429), retrying in 1s...\n",
            "⚠️ Rate limited (429), retrying in 2s...\n",
            "✅ Saved: CAISO_DAM_Forecast_2025_05.zip\n"
          ]
        },
        {
          "name": "stderr",
          "output_type": "stream",
          "text": [
            "📅 Fetching monthly ZIPs:  90%|████████▉ | 35/39 [03:32<00:24,  6.06s/it]"
          ]
        },
        {
          "name": "stdout",
          "output_type": "stream",
          "text": [
            "\n",
            "📦 Downloading CAISO_DAM_Forecast_2025_06.zip...\n",
            "⚠️ Rate limited (429), retrying in 1s...\n",
            "⚠️ Rate limited (429), retrying in 2s...\n",
            "✅ Saved: CAISO_DAM_Forecast_2025_06.zip\n"
          ]
        },
        {
          "name": "stderr",
          "output_type": "stream",
          "text": [
            "📅 Fetching monthly ZIPs:  92%|█████████▏| 36/39 [03:37<00:17,  5.99s/it]"
          ]
        },
        {
          "name": "stdout",
          "output_type": "stream",
          "text": [
            "\n",
            "📦 Downloading CAISO_DAM_Forecast_2025_07.zip...\n",
            "⚠️ Rate limited (429), retrying in 1s...\n",
            "⚠️ Rate limited (429), retrying in 2s...\n",
            "✅ Saved: CAISO_DAM_Forecast_2025_07.zip\n"
          ]
        },
        {
          "name": "stderr",
          "output_type": "stream",
          "text": [
            "📅 Fetching monthly ZIPs:  95%|█████████▍| 37/39 [03:43<00:11,  5.98s/it]"
          ]
        },
        {
          "name": "stdout",
          "output_type": "stream",
          "text": [
            "\n",
            "📦 Downloading CAISO_DAM_Forecast_2025_08.zip...\n",
            "⚠️ Rate limited (429), retrying in 1s...\n",
            "⚠️ Rate limited (429), retrying in 2s...\n",
            "✅ Saved: CAISO_DAM_Forecast_2025_08.zip\n"
          ]
        },
        {
          "name": "stderr",
          "output_type": "stream",
          "text": [
            "📅 Fetching monthly ZIPs:  97%|█████████▋| 38/39 [03:49<00:06,  6.01s/it]"
          ]
        },
        {
          "name": "stdout",
          "output_type": "stream",
          "text": [
            "\n",
            "📦 Downloading CAISO_DAM_Forecast_2025_09.zip...\n",
            "⚠️ Rate limited (429), retrying in 1s...\n",
            "⚠️ Rate limited (429), retrying in 2s...\n",
            "✅ Saved: CAISO_DAM_Forecast_2025_09.zip\n"
          ]
        },
        {
          "name": "stderr",
          "output_type": "stream",
          "text": [
            "📅 Fetching monthly ZIPs: 100%|██████████| 39/39 [03:55<00:00,  6.04s/it]\n"
          ]
        }
      ],
      "source": [
        "import os\n",
        "import time\n",
        "import datetime\n",
        "import requests\n",
        "from tqdm import tqdm\n",
        "from dateutil.relativedelta import relativedelta\n",
        "\n",
        "# === Configuration ===\n",
        "output_dir = r\"C:\\Users\\gotta\\OneDrive\\Documents\\Bureau\\X\\4A\\US\\Stanford\\Classes\\CS 230\\Project\\CS-230-Deep-Learning-Project\\CAISO_REN_DAM_Forecasts\"\n",
        "os.makedirs(output_dir, exist_ok=True)\n",
        "\n",
        "base_url = \"https://oasis.caiso.com/oasisapi/SingleZip\"\n",
        "query_template = (\n",
        "    \"?resultformat=6&queryname=SLD_REN_FCST&version=1&market_run_id=DAM\"\n",
        "    \"&startdatetime={start}&enddatetime={end}\"\n",
        ")\n",
        "\n",
        "# === Date generator ===\n",
        "def month_ranges(start_date, end_date):\n",
        "    \"\"\"Yield (start, end) pairs for each month between start_date and end_date.\"\"\"\n",
        "    current = start_date\n",
        "    while current < end_date:\n",
        "        next_month = current + relativedelta(months=1)\n",
        "        yield current, min(next_month, end_date)\n",
        "        current = next_month\n",
        "\n",
        "# === Download function with retry ===\n",
        "def download_file(url, file_path, max_retries=5):\n",
        "    attempt = 0\n",
        "    while attempt < max_retries:\n",
        "        try:\n",
        "            response = requests.get(url, timeout=60)\n",
        "            if response.status_code == 200 and response.content:\n",
        "                with open(file_path, \"wb\") as f:\n",
        "                    f.write(response.content)\n",
        "                print(f\"✅ Saved: {os.path.basename(file_path)}\")\n",
        "                return True\n",
        "            elif response.status_code == 429:\n",
        "                wait_time = 2 ** attempt\n",
        "                print(f\"⚠️ Rate limited (429), retrying in {wait_time}s...\")\n",
        "                time.sleep(wait_time)\n",
        "                attempt += 1\n",
        "            else:\n",
        "                print(f\"⚠️ Failed ({response.status_code}) for {os.path.basename(file_path)}\")\n",
        "                return False\n",
        "        except Exception as e:\n",
        "            print(f\"❌ Error: {e}, retrying...\")\n",
        "            time.sleep(2 ** attempt)\n",
        "            attempt += 1\n",
        "    print(f\"❌ Giving up after {max_retries} attempts: {os.path.basename(file_path)}\")\n",
        "    return False\n",
        "\n",
        "# === Main loop ===\n",
        "start_date = datetime.datetime(2022, 7, 1)\n",
        "end_date = datetime.datetime(2025, 10, 1)\n",
        "\n",
        "for start, end in tqdm(list(month_ranges(start_date, end_date)), desc=\"📅 Fetching monthly ZIPs\"):\n",
        "    start_str = start.strftime(\"%Y%m%dT07:00-0000\")\n",
        "    end_str = (end - datetime.timedelta(days=1)).strftime(\"%Y%m%dT07:00-0000\")\n",
        "    url = f\"{base_url}{query_template.format(start=start_str, end=end_str)}\"\n",
        "\n",
        "    file_name = f\"CAISO_DAM_Forecast_{start.strftime('%Y_%m')}.zip\"\n",
        "    file_path = os.path.join(output_dir, file_name)\n",
        "\n",
        "    if os.path.exists(file_path):\n",
        "        print(f\"✅ Already exists: {file_name}\")\n",
        "        continue\n",
        "\n",
        "    print(f\"\\n📦 Downloading {file_name}...\")\n",
        "    success = download_file(url, file_path)\n",
        "    if not success:\n",
        "        print(f\"⚠️ Skipped {file_name} after retries.\")\n",
        "    \n",
        "    # Polite delay to avoid rapid re-requests\n",
        "    time.sleep(2)\n"
      ]
    },
    {
      "cell_type": "code",
      "execution_count": null,
      "id": "280c3537",
      "metadata": {},
      "outputs": [
        {
          "name": "stderr",
          "output_type": "stream",
          "text": [
            "📅 Fetching monthly ZIPs:   0%|          | 0/39 [00:00<?, ?it/s]"
          ]
        },
        {
          "name": "stdout",
          "output_type": "stream",
          "text": [
            "\n",
            "📦 Downloading CAISO_DAM_Load_Forecast_2022_07.zip...\n",
            "✅ Saved: CAISO_DAM_Load_Forecast_2022_07.zip\n"
          ]
        },
        {
          "name": "stderr",
          "output_type": "stream",
          "text": [
            "📅 Fetching monthly ZIPs:   3%|▎         | 1/39 [00:02<01:50,  2.90s/it]"
          ]
        },
        {
          "name": "stdout",
          "output_type": "stream",
          "text": [
            "\n",
            "📦 Downloading CAISO_DAM_Load_Forecast_2022_08.zip...\n",
            "⚠️ Rate limited (429), retrying in 1s...\n",
            "⚠️ Rate limited (429), retrying in 2s...\n",
            "✅ Saved: CAISO_DAM_Load_Forecast_2022_08.zip\n"
          ]
        },
        {
          "name": "stderr",
          "output_type": "stream",
          "text": [
            "📅 Fetching monthly ZIPs:   5%|▌         | 2/39 [00:08<02:53,  4.70s/it]"
          ]
        },
        {
          "name": "stdout",
          "output_type": "stream",
          "text": [
            "\n",
            "📦 Downloading CAISO_DAM_Load_Forecast_2022_09.zip...\n",
            "⚠️ Rate limited (429), retrying in 1s...\n",
            "⚠️ Rate limited (429), retrying in 2s...\n",
            "✅ Saved: CAISO_DAM_Load_Forecast_2022_09.zip\n"
          ]
        },
        {
          "name": "stderr",
          "output_type": "stream",
          "text": [
            "📅 Fetching monthly ZIPs:   8%|▊         | 3/39 [00:14<03:09,  5.26s/it]"
          ]
        },
        {
          "name": "stdout",
          "output_type": "stream",
          "text": [
            "\n",
            "📦 Downloading CAISO_DAM_Load_Forecast_2022_10.zip...\n",
            "⚠️ Rate limited (429), retrying in 1s...\n",
            "⚠️ Rate limited (429), retrying in 2s...\n",
            "⚠️ Rate limited (429), retrying in 4s...\n",
            "✅ Saved: CAISO_DAM_Load_Forecast_2022_10.zip\n"
          ]
        },
        {
          "name": "stderr",
          "output_type": "stream",
          "text": [
            "📅 Fetching monthly ZIPs:  10%|█         | 4/39 [00:24<04:09,  7.14s/it]"
          ]
        },
        {
          "name": "stdout",
          "output_type": "stream",
          "text": [
            "\n",
            "📦 Downloading CAISO_DAM_Load_Forecast_2022_11.zip...\n",
            "⚠️ Rate limited (429), retrying in 1s...\n",
            "⚠️ Rate limited (429), retrying in 2s...\n",
            "⚠️ Rate limited (429), retrying in 4s...\n",
            "✅ Saved: CAISO_DAM_Load_Forecast_2022_11.zip\n"
          ]
        },
        {
          "name": "stderr",
          "output_type": "stream",
          "text": [
            "📅 Fetching monthly ZIPs:  13%|█▎        | 5/39 [00:34<04:39,  8.22s/it]"
          ]
        },
        {
          "name": "stdout",
          "output_type": "stream",
          "text": [
            "\n",
            "📦 Downloading CAISO_DAM_Load_Forecast_2022_12.zip...\n",
            "⚠️ Rate limited (429), retrying in 1s...\n",
            "⚠️ Rate limited (429), retrying in 2s...\n",
            "✅ Saved: CAISO_DAM_Load_Forecast_2022_12.zip\n"
          ]
        },
        {
          "name": "stderr",
          "output_type": "stream",
          "text": [
            "📅 Fetching monthly ZIPs:  15%|█▌        | 6/39 [00:41<04:07,  7.51s/it]"
          ]
        },
        {
          "name": "stdout",
          "output_type": "stream",
          "text": [
            "\n",
            "📦 Downloading CAISO_DAM_Load_Forecast_2023_01.zip...\n",
            "⚠️ Rate limited (429), retrying in 1s...\n",
            "⚠️ Rate limited (429), retrying in 2s...\n",
            "✅ Saved: CAISO_DAM_Load_Forecast_2023_01.zip\n"
          ]
        },
        {
          "name": "stderr",
          "output_type": "stream",
          "text": [
            "📅 Fetching monthly ZIPs:  18%|█▊        | 7/39 [00:47<03:43,  7.00s/it]"
          ]
        },
        {
          "name": "stdout",
          "output_type": "stream",
          "text": [
            "\n",
            "📦 Downloading CAISO_DAM_Load_Forecast_2023_02.zip...\n",
            "⚠️ Rate limited (429), retrying in 1s...\n",
            "⚠️ Rate limited (429), retrying in 2s...\n",
            "✅ Saved: CAISO_DAM_Load_Forecast_2023_02.zip\n"
          ]
        },
        {
          "name": "stderr",
          "output_type": "stream",
          "text": [
            "📅 Fetching monthly ZIPs:  21%|██        | 8/39 [00:52<03:26,  6.65s/it]"
          ]
        },
        {
          "name": "stdout",
          "output_type": "stream",
          "text": [
            "\n",
            "📦 Downloading CAISO_DAM_Load_Forecast_2023_03.zip...\n",
            "⚠️ Rate limited (429), retrying in 1s...\n",
            "⚠️ Rate limited (429), retrying in 2s...\n",
            "✅ Saved: CAISO_DAM_Load_Forecast_2023_03.zip\n"
          ]
        },
        {
          "name": "stderr",
          "output_type": "stream",
          "text": [
            "📅 Fetching monthly ZIPs:  23%|██▎       | 9/39 [00:58<03:12,  6.42s/it]"
          ]
        },
        {
          "name": "stdout",
          "output_type": "stream",
          "text": [
            "\n",
            "📦 Downloading CAISO_DAM_Load_Forecast_2023_04.zip...\n",
            "⚠️ Rate limited (429), retrying in 1s...\n",
            "⚠️ Rate limited (429), retrying in 2s...\n",
            "✅ Saved: CAISO_DAM_Load_Forecast_2023_04.zip\n"
          ]
        },
        {
          "name": "stderr",
          "output_type": "stream",
          "text": [
            "📅 Fetching monthly ZIPs:  26%|██▌       | 10/39 [01:04<03:02,  6.28s/it]"
          ]
        },
        {
          "name": "stdout",
          "output_type": "stream",
          "text": [
            "\n",
            "📦 Downloading CAISO_DAM_Load_Forecast_2023_05.zip...\n",
            "⚠️ Rate limited (429), retrying in 1s...\n",
            "⚠️ Rate limited (429), retrying in 2s...\n",
            "✅ Saved: CAISO_DAM_Load_Forecast_2023_05.zip\n"
          ]
        },
        {
          "name": "stderr",
          "output_type": "stream",
          "text": [
            "📅 Fetching monthly ZIPs:  28%|██▊       | 11/39 [01:10<02:53,  6.20s/it]"
          ]
        },
        {
          "name": "stdout",
          "output_type": "stream",
          "text": [
            "\n",
            "📦 Downloading CAISO_DAM_Load_Forecast_2023_06.zip...\n",
            "⚠️ Rate limited (429), retrying in 1s...\n",
            "⚠️ Rate limited (429), retrying in 2s...\n",
            "✅ Saved: CAISO_DAM_Load_Forecast_2023_06.zip\n"
          ]
        },
        {
          "name": "stderr",
          "output_type": "stream",
          "text": [
            "📅 Fetching monthly ZIPs:  31%|███       | 12/39 [01:16<02:46,  6.18s/it]"
          ]
        },
        {
          "name": "stdout",
          "output_type": "stream",
          "text": [
            "\n",
            "📦 Downloading CAISO_DAM_Load_Forecast_2023_07.zip...\n",
            "⚠️ Rate limited (429), retrying in 1s...\n",
            "⚠️ Rate limited (429), retrying in 2s...\n",
            "✅ Saved: CAISO_DAM_Load_Forecast_2023_07.zip\n"
          ]
        },
        {
          "name": "stderr",
          "output_type": "stream",
          "text": [
            "📅 Fetching monthly ZIPs:  33%|███▎      | 13/39 [01:23<02:40,  6.17s/it]"
          ]
        },
        {
          "name": "stdout",
          "output_type": "stream",
          "text": [
            "\n",
            "📦 Downloading CAISO_DAM_Load_Forecast_2023_08.zip...\n",
            "⚠️ Rate limited (429), retrying in 1s...\n",
            "⚠️ Rate limited (429), retrying in 2s...\n",
            "✅ Saved: CAISO_DAM_Load_Forecast_2023_08.zip\n"
          ]
        },
        {
          "name": "stderr",
          "output_type": "stream",
          "text": [
            "📅 Fetching monthly ZIPs:  36%|███▌      | 14/39 [01:29<02:33,  6.13s/it]"
          ]
        },
        {
          "name": "stdout",
          "output_type": "stream",
          "text": [
            "\n",
            "📦 Downloading CAISO_DAM_Load_Forecast_2023_09.zip...\n",
            "⚠️ Rate limited (429), retrying in 1s...\n",
            "⚠️ Rate limited (429), retrying in 2s...\n",
            "✅ Saved: CAISO_DAM_Load_Forecast_2023_09.zip\n"
          ]
        },
        {
          "name": "stderr",
          "output_type": "stream",
          "text": [
            "📅 Fetching monthly ZIPs:  38%|███▊      | 15/39 [01:35<02:26,  6.12s/it]"
          ]
        },
        {
          "name": "stdout",
          "output_type": "stream",
          "text": [
            "\n",
            "📦 Downloading CAISO_DAM_Load_Forecast_2023_10.zip...\n",
            "⚠️ Rate limited (429), retrying in 1s...\n",
            "⚠️ Rate limited (429), retrying in 2s...\n",
            "✅ Saved: CAISO_DAM_Load_Forecast_2023_10.zip\n"
          ]
        },
        {
          "name": "stderr",
          "output_type": "stream",
          "text": [
            "📅 Fetching monthly ZIPs:  41%|████      | 16/39 [01:41<02:20,  6.09s/it]"
          ]
        },
        {
          "name": "stdout",
          "output_type": "stream",
          "text": [
            "\n",
            "📦 Downloading CAISO_DAM_Load_Forecast_2023_11.zip...\n",
            "⚠️ Rate limited (429), retrying in 1s...\n",
            "⚠️ Rate limited (429), retrying in 2s...\n",
            "✅ Saved: CAISO_DAM_Load_Forecast_2023_11.zip\n"
          ]
        },
        {
          "name": "stderr",
          "output_type": "stream",
          "text": [
            "📅 Fetching monthly ZIPs:  44%|████▎     | 17/39 [01:47<02:13,  6.07s/it]"
          ]
        },
        {
          "name": "stdout",
          "output_type": "stream",
          "text": [
            "\n",
            "📦 Downloading CAISO_DAM_Load_Forecast_2023_12.zip...\n",
            "⚠️ Rate limited (429), retrying in 1s...\n",
            "⚠️ Rate limited (429), retrying in 2s...\n",
            "✅ Saved: CAISO_DAM_Load_Forecast_2023_12.zip\n"
          ]
        },
        {
          "name": "stderr",
          "output_type": "stream",
          "text": [
            "📅 Fetching monthly ZIPs:  46%|████▌     | 18/39 [01:53<02:07,  6.09s/it]"
          ]
        },
        {
          "name": "stdout",
          "output_type": "stream",
          "text": [
            "\n",
            "📦 Downloading CAISO_DAM_Load_Forecast_2024_01.zip...\n",
            "⚠️ Rate limited (429), retrying in 1s...\n",
            "⚠️ Rate limited (429), retrying in 2s...\n",
            "✅ Saved: CAISO_DAM_Load_Forecast_2024_01.zip\n"
          ]
        },
        {
          "name": "stderr",
          "output_type": "stream",
          "text": [
            "📅 Fetching monthly ZIPs:  49%|████▊     | 19/39 [01:59<02:01,  6.08s/it]"
          ]
        },
        {
          "name": "stdout",
          "output_type": "stream",
          "text": [
            "\n",
            "📦 Downloading CAISO_DAM_Load_Forecast_2024_02.zip...\n",
            "⚠️ Rate limited (429), retrying in 1s...\n",
            "⚠️ Rate limited (429), retrying in 2s...\n",
            "✅ Saved: CAISO_DAM_Load_Forecast_2024_02.zip\n"
          ]
        },
        {
          "name": "stderr",
          "output_type": "stream",
          "text": [
            "📅 Fetching monthly ZIPs:  51%|█████▏    | 20/39 [02:05<01:54,  6.04s/it]"
          ]
        },
        {
          "name": "stdout",
          "output_type": "stream",
          "text": [
            "\n",
            "📦 Downloading CAISO_DAM_Load_Forecast_2024_03.zip...\n",
            "✅ Saved: CAISO_DAM_Load_Forecast_2024_03.zip\n"
          ]
        },
        {
          "name": "stderr",
          "output_type": "stream",
          "text": [
            "📅 Fetching monthly ZIPs:  54%|█████▍    | 21/39 [02:08<01:31,  5.11s/it]"
          ]
        },
        {
          "name": "stdout",
          "output_type": "stream",
          "text": [
            "\n",
            "📦 Downloading CAISO_DAM_Load_Forecast_2024_04.zip...\n",
            "⚠️ Rate limited (429), retrying in 1s...\n",
            "⚠️ Rate limited (429), retrying in 2s...\n",
            "✅ Saved: CAISO_DAM_Load_Forecast_2024_04.zip\n"
          ]
        },
        {
          "name": "stderr",
          "output_type": "stream",
          "text": [
            "📅 Fetching monthly ZIPs:  56%|█████▋    | 22/39 [02:14<01:31,  5.38s/it]"
          ]
        },
        {
          "name": "stdout",
          "output_type": "stream",
          "text": [
            "\n",
            "📦 Downloading CAISO_DAM_Load_Forecast_2024_05.zip...\n",
            "⚠️ Rate limited (429), retrying in 1s...\n",
            "⚠️ Rate limited (429), retrying in 2s...\n",
            "✅ Saved: CAISO_DAM_Load_Forecast_2024_05.zip\n"
          ]
        },
        {
          "name": "stderr",
          "output_type": "stream",
          "text": [
            "📅 Fetching monthly ZIPs:  59%|█████▉    | 23/39 [02:20<01:29,  5.59s/it]"
          ]
        },
        {
          "name": "stdout",
          "output_type": "stream",
          "text": [
            "\n",
            "📦 Downloading CAISO_DAM_Load_Forecast_2024_06.zip...\n",
            "⚠️ Rate limited (429), retrying in 1s...\n",
            "⚠️ Rate limited (429), retrying in 2s...\n",
            "✅ Saved: CAISO_DAM_Load_Forecast_2024_06.zip\n"
          ]
        },
        {
          "name": "stderr",
          "output_type": "stream",
          "text": [
            "📅 Fetching monthly ZIPs:  62%|██████▏   | 24/39 [02:26<01:25,  5.73s/it]"
          ]
        },
        {
          "name": "stdout",
          "output_type": "stream",
          "text": [
            "\n",
            "📦 Downloading CAISO_DAM_Load_Forecast_2024_07.zip...\n",
            "⚠️ Rate limited (429), retrying in 1s...\n",
            "⚠️ Rate limited (429), retrying in 2s...\n",
            "✅ Saved: CAISO_DAM_Load_Forecast_2024_07.zip\n"
          ]
        },
        {
          "name": "stderr",
          "output_type": "stream",
          "text": [
            "📅 Fetching monthly ZIPs:  64%|██████▍   | 25/39 [02:32<01:21,  5.83s/it]"
          ]
        },
        {
          "name": "stdout",
          "output_type": "stream",
          "text": [
            "\n",
            "📦 Downloading CAISO_DAM_Load_Forecast_2024_08.zip...\n",
            "⚠️ Rate limited (429), retrying in 1s...\n",
            "⚠️ Rate limited (429), retrying in 2s...\n",
            "✅ Saved: CAISO_DAM_Load_Forecast_2024_08.zip\n"
          ]
        },
        {
          "name": "stderr",
          "output_type": "stream",
          "text": [
            "📅 Fetching monthly ZIPs:  67%|██████▋   | 26/39 [02:38<01:17,  5.93s/it]"
          ]
        },
        {
          "name": "stdout",
          "output_type": "stream",
          "text": [
            "\n",
            "📦 Downloading CAISO_DAM_Load_Forecast_2024_09.zip...\n",
            "⚠️ Rate limited (429), retrying in 1s...\n",
            "⚠️ Rate limited (429), retrying in 2s...\n",
            "✅ Saved: CAISO_DAM_Load_Forecast_2024_09.zip\n"
          ]
        },
        {
          "name": "stderr",
          "output_type": "stream",
          "text": [
            "📅 Fetching monthly ZIPs:  69%|██████▉   | 27/39 [02:44<01:11,  5.95s/it]"
          ]
        },
        {
          "name": "stdout",
          "output_type": "stream",
          "text": [
            "\n",
            "📦 Downloading CAISO_DAM_Load_Forecast_2024_10.zip...\n",
            "⚠️ Rate limited (429), retrying in 1s...\n",
            "⚠️ Rate limited (429), retrying in 2s...\n",
            "✅ Saved: CAISO_DAM_Load_Forecast_2024_10.zip\n"
          ]
        },
        {
          "name": "stderr",
          "output_type": "stream",
          "text": [
            "📅 Fetching monthly ZIPs:  72%|███████▏  | 28/39 [02:50<01:05,  5.98s/it]"
          ]
        },
        {
          "name": "stdout",
          "output_type": "stream",
          "text": [
            "\n",
            "📦 Downloading CAISO_DAM_Load_Forecast_2024_11.zip...\n",
            "⚠️ Rate limited (429), retrying in 1s...\n",
            "⚠️ Rate limited (429), retrying in 2s...\n",
            "✅ Saved: CAISO_DAM_Load_Forecast_2024_11.zip\n"
          ]
        },
        {
          "name": "stderr",
          "output_type": "stream",
          "text": [
            "📅 Fetching monthly ZIPs:  74%|███████▍  | 29/39 [02:56<00:59,  6.00s/it]"
          ]
        },
        {
          "name": "stdout",
          "output_type": "stream",
          "text": [
            "\n",
            "📦 Downloading CAISO_DAM_Load_Forecast_2024_12.zip...\n",
            "⚠️ Rate limited (429), retrying in 1s...\n",
            "⚠️ Rate limited (429), retrying in 2s...\n",
            "✅ Saved: CAISO_DAM_Load_Forecast_2024_12.zip\n"
          ]
        },
        {
          "name": "stderr",
          "output_type": "stream",
          "text": [
            "📅 Fetching monthly ZIPs:  77%|███████▋  | 30/39 [03:02<00:54,  6.04s/it]"
          ]
        },
        {
          "name": "stdout",
          "output_type": "stream",
          "text": [
            "\n",
            "📦 Downloading CAISO_DAM_Load_Forecast_2025_01.zip...\n",
            "⚠️ Rate limited (429), retrying in 1s...\n",
            "⚠️ Rate limited (429), retrying in 2s...\n",
            "✅ Saved: CAISO_DAM_Load_Forecast_2025_01.zip\n"
          ]
        },
        {
          "name": "stderr",
          "output_type": "stream",
          "text": [
            "📅 Fetching monthly ZIPs:  79%|███████▉  | 31/39 [03:09<00:48,  6.10s/it]"
          ]
        },
        {
          "name": "stdout",
          "output_type": "stream",
          "text": [
            "\n",
            "📦 Downloading CAISO_DAM_Load_Forecast_2025_02.zip...\n",
            "⚠️ Rate limited (429), retrying in 1s...\n",
            "⚠️ Rate limited (429), retrying in 2s...\n",
            "✅ Saved: CAISO_DAM_Load_Forecast_2025_02.zip\n"
          ]
        },
        {
          "name": "stderr",
          "output_type": "stream",
          "text": [
            "📅 Fetching monthly ZIPs:  82%|████████▏ | 32/39 [03:15<00:42,  6.13s/it]"
          ]
        },
        {
          "name": "stdout",
          "output_type": "stream",
          "text": [
            "\n",
            "📦 Downloading CAISO_DAM_Load_Forecast_2025_03.zip...\n",
            "⚠️ Rate limited (429), retrying in 1s...\n",
            "⚠️ Rate limited (429), retrying in 2s...\n",
            "✅ Saved: CAISO_DAM_Load_Forecast_2025_03.zip\n"
          ]
        },
        {
          "name": "stderr",
          "output_type": "stream",
          "text": [
            "📅 Fetching monthly ZIPs:  85%|████████▍ | 33/39 [03:21<00:36,  6.15s/it]"
          ]
        },
        {
          "name": "stdout",
          "output_type": "stream",
          "text": [
            "\n",
            "📦 Downloading CAISO_DAM_Load_Forecast_2025_04.zip...\n",
            "⚠️ Rate limited (429), retrying in 1s...\n",
            "⚠️ Rate limited (429), retrying in 2s...\n",
            "✅ Saved: CAISO_DAM_Load_Forecast_2025_04.zip\n"
          ]
        },
        {
          "name": "stderr",
          "output_type": "stream",
          "text": [
            "📅 Fetching monthly ZIPs:  87%|████████▋ | 34/39 [03:28<00:31,  6.26s/it]"
          ]
        },
        {
          "name": "stdout",
          "output_type": "stream",
          "text": [
            "\n",
            "📦 Downloading CAISO_DAM_Load_Forecast_2025_05.zip...\n",
            "✅ Saved: CAISO_DAM_Load_Forecast_2025_05.zip\n"
          ]
        },
        {
          "name": "stderr",
          "output_type": "stream",
          "text": [
            "📅 Fetching monthly ZIPs:  90%|████████▉ | 35/39 [03:31<00:21,  5.40s/it]"
          ]
        },
        {
          "name": "stdout",
          "output_type": "stream",
          "text": [
            "\n",
            "📦 Downloading CAISO_DAM_Load_Forecast_2025_06.zip...\n",
            "⚠️ Rate limited (429), retrying in 1s...\n",
            "⚠️ Rate limited (429), retrying in 2s...\n",
            "✅ Saved: CAISO_DAM_Load_Forecast_2025_06.zip\n"
          ]
        },
        {
          "name": "stderr",
          "output_type": "stream",
          "text": [
            "📅 Fetching monthly ZIPs:  92%|█████████▏| 36/39 [03:37<00:17,  5.71s/it]"
          ]
        },
        {
          "name": "stdout",
          "output_type": "stream",
          "text": [
            "\n",
            "📦 Downloading CAISO_DAM_Load_Forecast_2025_07.zip...\n",
            "⚠️ Rate limited (429), retrying in 1s...\n",
            "⚠️ Rate limited (429), retrying in 2s...\n",
            "✅ Saved: CAISO_DAM_Load_Forecast_2025_07.zip\n"
          ]
        },
        {
          "name": "stderr",
          "output_type": "stream",
          "text": [
            "📅 Fetching monthly ZIPs:  95%|█████████▍| 37/39 [03:43<00:11,  5.79s/it]"
          ]
        },
        {
          "name": "stdout",
          "output_type": "stream",
          "text": [
            "\n",
            "📦 Downloading CAISO_DAM_Load_Forecast_2025_08.zip...\n",
            "⚠️ Rate limited (429), retrying in 1s...\n",
            "⚠️ Rate limited (429), retrying in 2s...\n",
            "✅ Saved: CAISO_DAM_Load_Forecast_2025_08.zip\n"
          ]
        },
        {
          "name": "stderr",
          "output_type": "stream",
          "text": [
            "📅 Fetching monthly ZIPs:  97%|█████████▋| 38/39 [03:49<00:05,  5.85s/it]"
          ]
        },
        {
          "name": "stdout",
          "output_type": "stream",
          "text": [
            "\n",
            "📦 Downloading CAISO_DAM_Load_Forecast_2025_09.zip...\n",
            "⚠️ Rate limited (429), retrying in 1s...\n",
            "⚠️ Rate limited (429), retrying in 2s...\n",
            "✅ Saved: CAISO_DAM_Load_Forecast_2025_09.zip\n"
          ]
        },
        {
          "name": "stderr",
          "output_type": "stream",
          "text": [
            "📅 Fetching monthly ZIPs: 100%|██████████| 39/39 [03:56<00:00,  6.07s/it]\n"
          ]
        }
      ],
      "source": [
        "import os\n",
        "import time\n",
        "import datetime\n",
        "import requests\n",
        "from tqdm import tqdm\n",
        "from dateutil.relativedelta import relativedelta\n",
        "\n",
        "# === Configuration ===\n",
        "output_dir = r\"C:\\Users\\gotta\\OneDrive\\Documents\\Bureau\\X\\4A\\US\\Stanford\\Classes\\CS 230\\Project\\CS-230-Deep-Learning-Project\\data\\CAISO_DAM_Load_Forecasts\"\n",
        "os.makedirs(output_dir, exist_ok=True)\n",
        "\n",
        "base_url = \"https://oasis.caiso.com/oasisapi/SingleZip\"\n",
        "query_template = (\n",
        "    \"?resultformat=6&queryname=SLD_FCST&version=1&market_run_id=DAM\"\n",
        "    \"&startdatetime={start}&enddatetime={end}\"\n",
        ")\n",
        "\n",
        "# === Date generator ===\n",
        "def month_ranges(start_date, end_date):\n",
        "    \"\"\"Yield (start, end) pairs for each month between start_date and end_date.\"\"\"\n",
        "    current = start_date\n",
        "    while current < end_date:\n",
        "        next_month = current + relativedelta(months=1)\n",
        "        yield current, min(next_month, end_date)\n",
        "        current = next_month\n",
        "\n",
        "# === Download function with retry ===\n",
        "def download_file(url, file_path, max_retries=5):\n",
        "    attempt = 0\n",
        "    while attempt < max_retries:\n",
        "        try:\n",
        "            response = requests.get(url, timeout=60)\n",
        "            if response.status_code == 200 and response.content:\n",
        "                with open(file_path, \"wb\") as f:\n",
        "                    f.write(response.content)\n",
        "                print(f\"✅ Saved: {os.path.basename(file_path)}\")\n",
        "                return True\n",
        "            elif response.status_code == 429:\n",
        "                wait_time = 2 ** attempt\n",
        "                print(f\"⚠️ Rate limited (429), retrying in {wait_time}s...\")\n",
        "                time.sleep(wait_time)\n",
        "                attempt += 1\n",
        "            else:\n",
        "                print(f\"⚠️ Failed ({response.status_code}) for {os.path.basename(file_path)}\")\n",
        "                return False\n",
        "        except Exception as e:\n",
        "            print(f\"❌ Error: {e}, retrying...\")\n",
        "            time.sleep(2 ** attempt)\n",
        "            attempt += 1\n",
        "    print(f\"❌ Giving up after {max_retries} attempts: {os.path.basename(file_path)}\")\n",
        "    return False\n",
        "\n",
        "# === Main loop ===\n",
        "start_date = datetime.datetime(2022, 7, 1)\n",
        "end_date = datetime.datetime(2025, 10, 1)\n",
        "\n",
        "for start, end in tqdm(list(month_ranges(start_date, end_date)), desc=\"📅 Fetching monthly ZIPs\"):\n",
        "    start_str = start.strftime(\"%Y%m%dT07:00-0000\")\n",
        "    end_str = (end - datetime.timedelta(days=1)).strftime(\"%Y%m%dT07:00-0000\")\n",
        "    url = f\"{base_url}{query_template.format(start=start_str, end=end_str)}\"\n",
        "\n",
        "    file_name = f\"CAISO_DAM_Load_Forecast_{start.strftime('%Y_%m')}.zip\"\n",
        "    file_path = os.path.join(output_dir, file_name)\n",
        "\n",
        "    if os.path.exists(file_path):\n",
        "        print(f\"✅ Already exists: {file_name}\")\n",
        "        continue\n",
        "\n",
        "    print(f\"\\n📦 Downloading {file_name}...\")\n",
        "    success = download_file(url, file_path)\n",
        "    if not success:\n",
        "        print(f\"⚠️ Skipped {file_name} after retries.\")\n",
        "    \n",
        "    # Polite delay to avoid rapid re-requests\n",
        "    time.sleep(2)"
      ]
    },
    {
      "cell_type": "code",
      "execution_count": 2,
      "id": "2a8eda17",
      "metadata": {},
      "outputs": [
        {
          "name": "stderr",
          "output_type": "stream",
          "text": [
            "📅 Fetching monthly ZIPs:   0%|          | 0/39 [00:00<?, ?it/s]"
          ]
        },
        {
          "name": "stdout",
          "output_type": "stream",
          "text": [
            "\n",
            "📦 Downloading CAISO_LMP_Forecast_2022_07.zip...\n",
            "✅ Saved: CAISO_LMP_Forecast_2022_07.zip\n"
          ]
        },
        {
          "name": "stderr",
          "output_type": "stream",
          "text": [
            "📅 Fetching monthly ZIPs:   3%|▎         | 1/39 [00:08<05:26,  8.60s/it]"
          ]
        },
        {
          "name": "stdout",
          "output_type": "stream",
          "text": [
            "\n",
            "📦 Downloading CAISO_LMP_Forecast_2022_08.zip...\n",
            "✅ Saved: CAISO_LMP_Forecast_2022_08.zip\n"
          ]
        },
        {
          "name": "stderr",
          "output_type": "stream",
          "text": [
            "📅 Fetching monthly ZIPs:   5%|▌         | 2/39 [00:17<05:25,  8.79s/it]"
          ]
        },
        {
          "name": "stdout",
          "output_type": "stream",
          "text": [
            "\n",
            "📦 Downloading CAISO_LMP_Forecast_2022_09.zip...\n",
            "✅ Saved: CAISO_LMP_Forecast_2022_09.zip\n"
          ]
        },
        {
          "name": "stderr",
          "output_type": "stream",
          "text": [
            "📅 Fetching monthly ZIPs:   8%|▊         | 3/39 [00:26<05:18,  8.84s/it]"
          ]
        },
        {
          "name": "stdout",
          "output_type": "stream",
          "text": [
            "\n",
            "📦 Downloading CAISO_LMP_Forecast_2022_10.zip...\n",
            "✅ Saved: CAISO_LMP_Forecast_2022_10.zip\n"
          ]
        },
        {
          "name": "stderr",
          "output_type": "stream",
          "text": [
            "📅 Fetching monthly ZIPs:  10%|█         | 4/39 [00:36<05:20,  9.15s/it]"
          ]
        },
        {
          "name": "stdout",
          "output_type": "stream",
          "text": [
            "\n",
            "📦 Downloading CAISO_LMP_Forecast_2022_11.zip...\n",
            "✅ Saved: CAISO_LMP_Forecast_2022_11.zip\n"
          ]
        },
        {
          "name": "stderr",
          "output_type": "stream",
          "text": [
            "📅 Fetching monthly ZIPs:  13%|█▎        | 5/39 [00:46<05:21,  9.46s/it]"
          ]
        },
        {
          "name": "stdout",
          "output_type": "stream",
          "text": [
            "\n",
            "📦 Downloading CAISO_LMP_Forecast_2022_12.zip...\n",
            "✅ Saved: CAISO_LMP_Forecast_2022_12.zip\n"
          ]
        },
        {
          "name": "stderr",
          "output_type": "stream",
          "text": [
            "📅 Fetching monthly ZIPs:  15%|█▌        | 6/39 [00:56<05:21,  9.73s/it]"
          ]
        },
        {
          "name": "stdout",
          "output_type": "stream",
          "text": [
            "\n",
            "📦 Downloading CAISO_LMP_Forecast_2023_01.zip...\n",
            "✅ Saved: CAISO_LMP_Forecast_2023_01.zip\n"
          ]
        },
        {
          "name": "stderr",
          "output_type": "stream",
          "text": [
            "📅 Fetching monthly ZIPs:  18%|█▊        | 7/39 [01:06<05:11,  9.72s/it]"
          ]
        },
        {
          "name": "stdout",
          "output_type": "stream",
          "text": [
            "\n",
            "📦 Downloading CAISO_LMP_Forecast_2023_02.zip...\n",
            "✅ Saved: CAISO_LMP_Forecast_2023_02.zip\n"
          ]
        },
        {
          "name": "stderr",
          "output_type": "stream",
          "text": [
            "📅 Fetching monthly ZIPs:  21%|██        | 8/39 [01:15<04:56,  9.57s/it]"
          ]
        },
        {
          "name": "stdout",
          "output_type": "stream",
          "text": [
            "\n",
            "📦 Downloading CAISO_LMP_Forecast_2023_03.zip...\n",
            "✅ Saved: CAISO_LMP_Forecast_2023_03.zip\n"
          ]
        },
        {
          "name": "stderr",
          "output_type": "stream",
          "text": [
            "📅 Fetching monthly ZIPs:  23%|██▎       | 9/39 [01:24<04:42,  9.43s/it]"
          ]
        },
        {
          "name": "stdout",
          "output_type": "stream",
          "text": [
            "\n",
            "📦 Downloading CAISO_LMP_Forecast_2023_04.zip...\n",
            "✅ Saved: CAISO_LMP_Forecast_2023_04.zip\n"
          ]
        },
        {
          "name": "stderr",
          "output_type": "stream",
          "text": [
            "📅 Fetching monthly ZIPs:  26%|██▌       | 10/39 [01:32<04:23,  9.10s/it]"
          ]
        },
        {
          "name": "stdout",
          "output_type": "stream",
          "text": [
            "\n",
            "📦 Downloading CAISO_LMP_Forecast_2023_05.zip...\n",
            "✅ Saved: CAISO_LMP_Forecast_2023_05.zip\n"
          ]
        },
        {
          "name": "stderr",
          "output_type": "stream",
          "text": [
            "📅 Fetching monthly ZIPs:  28%|██▊       | 11/39 [01:41<04:14,  9.09s/it]"
          ]
        },
        {
          "name": "stdout",
          "output_type": "stream",
          "text": [
            "\n",
            "📦 Downloading CAISO_LMP_Forecast_2023_06.zip...\n",
            "✅ Saved: CAISO_LMP_Forecast_2023_06.zip\n"
          ]
        },
        {
          "name": "stderr",
          "output_type": "stream",
          "text": [
            "📅 Fetching monthly ZIPs:  31%|███       | 12/39 [01:50<04:00,  8.92s/it]"
          ]
        },
        {
          "name": "stdout",
          "output_type": "stream",
          "text": [
            "\n",
            "📦 Downloading CAISO_LMP_Forecast_2023_07.zip...\n",
            "✅ Saved: CAISO_LMP_Forecast_2023_07.zip\n"
          ]
        },
        {
          "name": "stderr",
          "output_type": "stream",
          "text": [
            "📅 Fetching monthly ZIPs:  33%|███▎      | 13/39 [01:59<03:51,  8.89s/it]"
          ]
        },
        {
          "name": "stdout",
          "output_type": "stream",
          "text": [
            "\n",
            "📦 Downloading CAISO_LMP_Forecast_2023_08.zip...\n",
            "✅ Saved: CAISO_LMP_Forecast_2023_08.zip\n"
          ]
        },
        {
          "name": "stderr",
          "output_type": "stream",
          "text": [
            "📅 Fetching monthly ZIPs:  36%|███▌      | 14/39 [02:07<03:41,  8.86s/it]"
          ]
        },
        {
          "name": "stdout",
          "output_type": "stream",
          "text": [
            "\n",
            "📦 Downloading CAISO_LMP_Forecast_2023_09.zip...\n",
            "✅ Saved: CAISO_LMP_Forecast_2023_09.zip\n"
          ]
        },
        {
          "name": "stderr",
          "output_type": "stream",
          "text": [
            "📅 Fetching monthly ZIPs:  38%|███▊      | 15/39 [02:16<03:28,  8.71s/it]"
          ]
        },
        {
          "name": "stdout",
          "output_type": "stream",
          "text": [
            "\n",
            "📦 Downloading CAISO_LMP_Forecast_2023_10.zip...\n",
            "✅ Saved: CAISO_LMP_Forecast_2023_10.zip\n"
          ]
        },
        {
          "name": "stderr",
          "output_type": "stream",
          "text": [
            "📅 Fetching monthly ZIPs:  41%|████      | 16/39 [02:25<03:24,  8.88s/it]"
          ]
        },
        {
          "name": "stdout",
          "output_type": "stream",
          "text": [
            "\n",
            "📦 Downloading CAISO_LMP_Forecast_2023_11.zip...\n",
            "✅ Saved: CAISO_LMP_Forecast_2023_11.zip\n"
          ]
        },
        {
          "name": "stderr",
          "output_type": "stream",
          "text": [
            "📅 Fetching monthly ZIPs:  44%|████▎     | 17/39 [02:33<03:08,  8.58s/it]"
          ]
        },
        {
          "name": "stdout",
          "output_type": "stream",
          "text": [
            "\n",
            "📦 Downloading CAISO_LMP_Forecast_2023_12.zip...\n",
            "✅ Saved: CAISO_LMP_Forecast_2023_12.zip\n"
          ]
        },
        {
          "name": "stderr",
          "output_type": "stream",
          "text": [
            "📅 Fetching monthly ZIPs:  46%|████▌     | 18/39 [02:42<03:00,  8.59s/it]"
          ]
        },
        {
          "name": "stdout",
          "output_type": "stream",
          "text": [
            "\n",
            "📦 Downloading CAISO_LMP_Forecast_2024_01.zip...\n",
            "✅ Saved: CAISO_LMP_Forecast_2024_01.zip\n"
          ]
        },
        {
          "name": "stderr",
          "output_type": "stream",
          "text": [
            "📅 Fetching monthly ZIPs:  49%|████▊     | 19/39 [02:51<02:56,  8.81s/it]"
          ]
        },
        {
          "name": "stdout",
          "output_type": "stream",
          "text": [
            "\n",
            "📦 Downloading CAISO_LMP_Forecast_2024_02.zip...\n",
            "✅ Saved: CAISO_LMP_Forecast_2024_02.zip\n"
          ]
        },
        {
          "name": "stderr",
          "output_type": "stream",
          "text": [
            "📅 Fetching monthly ZIPs:  51%|█████▏    | 20/39 [03:00<02:46,  8.76s/it]"
          ]
        },
        {
          "name": "stdout",
          "output_type": "stream",
          "text": [
            "\n",
            "📦 Downloading CAISO_LMP_Forecast_2024_03.zip...\n",
            "✅ Saved: CAISO_LMP_Forecast_2024_03.zip\n"
          ]
        },
        {
          "name": "stderr",
          "output_type": "stream",
          "text": [
            "📅 Fetching monthly ZIPs:  54%|█████▍    | 21/39 [03:09<02:39,  8.86s/it]"
          ]
        },
        {
          "name": "stdout",
          "output_type": "stream",
          "text": [
            "\n",
            "📦 Downloading CAISO_LMP_Forecast_2024_04.zip...\n",
            "✅ Saved: CAISO_LMP_Forecast_2024_04.zip\n"
          ]
        },
        {
          "name": "stderr",
          "output_type": "stream",
          "text": [
            "📅 Fetching monthly ZIPs:  56%|█████▋    | 22/39 [03:17<02:26,  8.63s/it]"
          ]
        },
        {
          "name": "stdout",
          "output_type": "stream",
          "text": [
            "\n",
            "📦 Downloading CAISO_LMP_Forecast_2024_05.zip...\n",
            "✅ Saved: CAISO_LMP_Forecast_2024_05.zip\n"
          ]
        },
        {
          "name": "stderr",
          "output_type": "stream",
          "text": [
            "📅 Fetching monthly ZIPs:  59%|█████▉    | 23/39 [03:26<02:19,  8.74s/it]"
          ]
        },
        {
          "name": "stdout",
          "output_type": "stream",
          "text": [
            "\n",
            "📦 Downloading CAISO_LMP_Forecast_2024_06.zip...\n",
            "✅ Saved: CAISO_LMP_Forecast_2024_06.zip\n"
          ]
        },
        {
          "name": "stderr",
          "output_type": "stream",
          "text": [
            "📅 Fetching monthly ZIPs:  62%|██████▏   | 24/39 [03:34<02:10,  8.69s/it]"
          ]
        },
        {
          "name": "stdout",
          "output_type": "stream",
          "text": [
            "\n",
            "📦 Downloading CAISO_LMP_Forecast_2024_07.zip...\n",
            "✅ Saved: CAISO_LMP_Forecast_2024_07.zip\n"
          ]
        },
        {
          "name": "stderr",
          "output_type": "stream",
          "text": [
            "📅 Fetching monthly ZIPs:  64%|██████▍   | 25/39 [03:43<02:03,  8.81s/it]"
          ]
        },
        {
          "name": "stdout",
          "output_type": "stream",
          "text": [
            "\n",
            "📦 Downloading CAISO_LMP_Forecast_2024_08.zip...\n",
            "✅ Saved: CAISO_LMP_Forecast_2024_08.zip\n"
          ]
        },
        {
          "name": "stderr",
          "output_type": "stream",
          "text": [
            "📅 Fetching monthly ZIPs:  67%|██████▋   | 26/39 [03:52<01:54,  8.78s/it]"
          ]
        },
        {
          "name": "stdout",
          "output_type": "stream",
          "text": [
            "\n",
            "📦 Downloading CAISO_LMP_Forecast_2024_09.zip...\n",
            "✅ Saved: CAISO_LMP_Forecast_2024_09.zip\n"
          ]
        },
        {
          "name": "stderr",
          "output_type": "stream",
          "text": [
            "📅 Fetching monthly ZIPs:  69%|██████▉   | 27/39 [04:01<01:43,  8.66s/it]"
          ]
        },
        {
          "name": "stdout",
          "output_type": "stream",
          "text": [
            "\n",
            "📦 Downloading CAISO_LMP_Forecast_2024_10.zip...\n",
            "✅ Saved: CAISO_LMP_Forecast_2024_10.zip\n"
          ]
        },
        {
          "name": "stderr",
          "output_type": "stream",
          "text": [
            "📅 Fetching monthly ZIPs:  72%|███████▏  | 28/39 [04:09<01:34,  8.62s/it]"
          ]
        },
        {
          "name": "stdout",
          "output_type": "stream",
          "text": [
            "\n",
            "📦 Downloading CAISO_LMP_Forecast_2024_11.zip...\n",
            "✅ Saved: CAISO_LMP_Forecast_2024_11.zip\n"
          ]
        },
        {
          "name": "stderr",
          "output_type": "stream",
          "text": [
            "📅 Fetching monthly ZIPs:  74%|███████▍  | 29/39 [04:18<01:26,  8.67s/it]"
          ]
        },
        {
          "name": "stdout",
          "output_type": "stream",
          "text": [
            "\n",
            "📦 Downloading CAISO_LMP_Forecast_2024_12.zip...\n",
            "✅ Saved: CAISO_LMP_Forecast_2024_12.zip\n"
          ]
        },
        {
          "name": "stderr",
          "output_type": "stream",
          "text": [
            "📅 Fetching monthly ZIPs:  77%|███████▋  | 30/39 [04:27<01:18,  8.77s/it]"
          ]
        },
        {
          "name": "stdout",
          "output_type": "stream",
          "text": [
            "\n",
            "📦 Downloading CAISO_LMP_Forecast_2025_01.zip...\n",
            "✅ Saved: CAISO_LMP_Forecast_2025_01.zip\n"
          ]
        },
        {
          "name": "stderr",
          "output_type": "stream",
          "text": [
            "📅 Fetching monthly ZIPs:  79%|███████▉  | 31/39 [04:36<01:10,  8.76s/it]"
          ]
        },
        {
          "name": "stdout",
          "output_type": "stream",
          "text": [
            "\n",
            "📦 Downloading CAISO_LMP_Forecast_2025_02.zip...\n",
            "✅ Saved: CAISO_LMP_Forecast_2025_02.zip\n"
          ]
        },
        {
          "name": "stderr",
          "output_type": "stream",
          "text": [
            "📅 Fetching monthly ZIPs:  82%|████████▏ | 32/39 [04:44<01:01,  8.73s/it]"
          ]
        },
        {
          "name": "stdout",
          "output_type": "stream",
          "text": [
            "\n",
            "📦 Downloading CAISO_LMP_Forecast_2025_03.zip...\n",
            "✅ Saved: CAISO_LMP_Forecast_2025_03.zip\n"
          ]
        },
        {
          "name": "stderr",
          "output_type": "stream",
          "text": [
            "📅 Fetching monthly ZIPs:  85%|████████▍ | 33/39 [04:53<00:52,  8.73s/it]"
          ]
        },
        {
          "name": "stdout",
          "output_type": "stream",
          "text": [
            "\n",
            "📦 Downloading CAISO_LMP_Forecast_2025_04.zip...\n",
            "✅ Saved: CAISO_LMP_Forecast_2025_04.zip\n"
          ]
        },
        {
          "name": "stderr",
          "output_type": "stream",
          "text": [
            "📅 Fetching monthly ZIPs:  87%|████████▋ | 34/39 [05:01<00:43,  8.67s/it]"
          ]
        },
        {
          "name": "stdout",
          "output_type": "stream",
          "text": [
            "\n",
            "📦 Downloading CAISO_LMP_Forecast_2025_05.zip...\n",
            "✅ Saved: CAISO_LMP_Forecast_2025_05.zip\n"
          ]
        },
        {
          "name": "stderr",
          "output_type": "stream",
          "text": [
            "📅 Fetching monthly ZIPs:  90%|████████▉ | 35/39 [05:10<00:34,  8.74s/it]"
          ]
        },
        {
          "name": "stdout",
          "output_type": "stream",
          "text": [
            "\n",
            "📦 Downloading CAISO_LMP_Forecast_2025_06.zip...\n",
            "✅ Saved: CAISO_LMP_Forecast_2025_06.zip\n"
          ]
        },
        {
          "name": "stderr",
          "output_type": "stream",
          "text": [
            "📅 Fetching monthly ZIPs:  92%|█████████▏| 36/39 [05:19<00:26,  8.70s/it]"
          ]
        },
        {
          "name": "stdout",
          "output_type": "stream",
          "text": [
            "\n",
            "📦 Downloading CAISO_LMP_Forecast_2025_07.zip...\n",
            "✅ Saved: CAISO_LMP_Forecast_2025_07.zip\n"
          ]
        },
        {
          "name": "stderr",
          "output_type": "stream",
          "text": [
            "📅 Fetching monthly ZIPs:  95%|█████████▍| 37/39 [05:28<00:17,  8.84s/it]"
          ]
        },
        {
          "name": "stdout",
          "output_type": "stream",
          "text": [
            "\n",
            "📦 Downloading CAISO_LMP_Forecast_2025_08.zip...\n",
            "✅ Saved: CAISO_LMP_Forecast_2025_08.zip\n"
          ]
        },
        {
          "name": "stderr",
          "output_type": "stream",
          "text": [
            "📅 Fetching monthly ZIPs:  97%|█████████▋| 38/39 [05:38<00:08,  8.99s/it]"
          ]
        },
        {
          "name": "stdout",
          "output_type": "stream",
          "text": [
            "\n",
            "📦 Downloading CAISO_LMP_Forecast_2025_09.zip...\n",
            "✅ Saved: CAISO_LMP_Forecast_2025_09.zip\n"
          ]
        },
        {
          "name": "stderr",
          "output_type": "stream",
          "text": [
            "📅 Fetching monthly ZIPs: 100%|██████████| 39/39 [05:46<00:00,  8.88s/it]\n"
          ]
        }
      ],
      "source": [
        "import os\n",
        "import time\n",
        "import datetime\n",
        "import requests\n",
        "from tqdm import tqdm\n",
        "from dateutil.relativedelta import relativedelta\n",
        "\n",
        "# === Configuration ===\n",
        "output_dir = r\"C:\\Users\\gotta\\OneDrive\\Documents\\Bureau\\X\\4A\\US\\Stanford\\Classes\\CS 230\\Project\\CS-230-Deep-Learning-Project\\data\\CAISO_LMP_Forecasts\"\n",
        "os.makedirs(output_dir, exist_ok=True)\n",
        "\n",
        "base_url = \"https://oasis.caiso.com/oasisapi/SingleZip\"\n",
        "query_template = (\n",
        "    \"?resultformat=6&queryname=PRC_LMP&version=12&market_run_id=DAM\"\n",
        "    \"&startdatetime={start}&enddatetime={end}\"\n",
        "    \"&node=TH_SP15_GEN-APND,TH_NP15_GEN-APND,TH_ZP26_GEN-APND\"\n",
        ")\n",
        "\n",
        "# === Date generator ===\n",
        "def month_ranges(start_date, end_date):\n",
        "    \"\"\"Yield (start, end) pairs for each month between start_date and end_date.\"\"\"\n",
        "    current = start_date\n",
        "    while current < end_date:\n",
        "        next_month = current + relativedelta(months=1)\n",
        "        yield current, min(next_month, end_date)\n",
        "        current = next_month\n",
        "\n",
        "# === Download function with retry ===\n",
        "def download_file(url, file_path, max_retries=5):\n",
        "    attempt = 0\n",
        "    while attempt < max_retries:\n",
        "        try:\n",
        "            response = requests.get(url, timeout=60)\n",
        "            if response.status_code == 200 and response.content:\n",
        "                with open(file_path, \"wb\") as f:\n",
        "                    f.write(response.content)\n",
        "                print(f\"✅ Saved: {os.path.basename(file_path)}\")\n",
        "                return True\n",
        "            elif response.status_code == 429:\n",
        "                wait_time = 2 ** attempt\n",
        "                print(f\"⚠️ Rate limited (429), retrying in {wait_time}s...\")\n",
        "                time.sleep(wait_time)\n",
        "                attempt += 1\n",
        "            else:\n",
        "                print(f\"⚠️ Failed ({response.status_code}) for {os.path.basename(file_path)}\")\n",
        "                return False\n",
        "        except Exception as e:\n",
        "            print(f\"❌ Error: {e}, retrying...\")\n",
        "            time.sleep(2 ** attempt)\n",
        "            attempt += 1\n",
        "    print(f\"❌ Giving up after {max_retries} attempts: {os.path.basename(file_path)}\")\n",
        "    return False\n",
        "\n",
        "# === Main loop ===\n",
        "start_date = datetime.datetime(2022, 7, 1)\n",
        "end_date = datetime.datetime(2025, 10, 1)\n",
        "\n",
        "for start, end in tqdm(list(month_ranges(start_date, end_date)), desc=\"📅 Fetching monthly ZIPs\"):\n",
        "    start_str = start.strftime(\"%Y%m%dT07:00-0000\")\n",
        "    end_str = (end - datetime.timedelta(days=1)).strftime(\"%Y%m%dT07:00-0000\")\n",
        "    url = f\"{base_url}{query_template.format(start=start_str, end=end_str)}\"\n",
        "\n",
        "    file_name = f\"CAISO_LMP_Forecast_{start.strftime('%Y_%m')}.zip\"\n",
        "    file_path = os.path.join(output_dir, file_name)\n",
        "\n",
        "    if os.path.exists(file_path):\n",
        "        print(f\"✅ Already exists: {file_name}\")\n",
        "        continue\n",
        "\n",
        "    print(f\"\\n📦 Downloading {file_name}...\")\n",
        "    success = download_file(url, file_path)\n",
        "    if not success:\n",
        "        print(f\"⚠️ Skipped {file_name} after retries.\")\n",
        "    \n",
        "    # Polite delay to avoid rapid re-requests\n",
        "    time.sleep(2)"
      ]
    }
  ],
  "metadata": {
    "colab": {
      "provenance": []
    },
    "kernelspec": {
      "display_name": "Python 3",
      "language": "python",
      "name": "python3"
    },
    "language_info": {
      "codemirror_mode": {
        "name": "ipython",
        "version": 3
      },
      "file_extension": ".py",
      "mimetype": "text/x-python",
      "name": "python",
      "nbconvert_exporter": "python",
      "pygments_lexer": "ipython3",
      "version": "3.13.1"
    }
  },
  "nbformat": 4,
  "nbformat_minor": 5
}
